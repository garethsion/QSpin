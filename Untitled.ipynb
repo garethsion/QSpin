{
 "cells": [
  {
   "cell_type": "code",
   "execution_count": 1,
   "id": "9b52a35b-7fa1-41ec-9d23-cada9ee1d8f2",
   "metadata": {},
   "outputs": [],
   "source": [
    "import numpy as np\n",
    "\n",
    "x1 = np.zeros((4,4), dtype=float)\n",
    "\n",
    "for i in range(x1.shape[0]):\n",
    "    for j in range(x1.shape[1]):\n",
    "        x1[i, j] = (2 * np.random.random() - 1.)"
   ]
  },
  {
   "cell_type": "code",
   "execution_count": 2,
   "id": "e712fedd-1998-4473-8a08-c27273eb078e",
   "metadata": {},
   "outputs": [
    {
     "data": {
      "text/plain": [
       "array([[-0.0949276 , -0.98162247, -0.14401081, -0.73201013],\n",
       "       [-0.85697554, -0.69999603, -0.08457063, -0.37492596],\n",
       "       [-0.06913391,  0.03614157,  0.43542473,  0.68813662],\n",
       "       [ 0.310242  ,  0.46763405, -0.48467788, -0.67837623]])"
      ]
     },
     "execution_count": 2,
     "metadata": {},
     "output_type": "execute_result"
    }
   ],
   "source": [
    "x1"
   ]
  },
  {
   "cell_type": "code",
   "execution_count": 6,
   "id": "9ec880ff-1721-4aef-83ab-b4797e5c2068",
   "metadata": {},
   "outputs": [
    {
     "data": {
      "text/plain": [
       "array([[ 0.69847551,  0.86731783,  0.30326498,  0.85818487],\n",
       "       [-0.82682087, -0.84368787,  0.30833833, -0.18106141],\n",
       "       [ 0.81276149,  0.94079602,  0.99431491,  0.83746851],\n",
       "       [ 0.43641773, -0.90317561,  0.26286816, -0.77074565]])"
      ]
     },
     "execution_count": 6,
     "metadata": {},
     "output_type": "execute_result"
    }
   ],
   "source": [
    "np.array([[(2 * np.random.random() - 1.) for j in range(x1.shape[1])] for j in range(x1.shape[0])])"
   ]
  },
  {
   "cell_type": "code",
   "execution_count": 10,
   "id": "33ecc785-370f-4495-9071-07be50eaee82",
   "metadata": {},
   "outputs": [
    {
     "ename": "ValueError",
     "evalue": "setting an array element with a sequence.",
     "output_type": "error",
     "traceback": [
      "\u001b[0;31m---------------------------------------------------------------------------\u001b[0m",
      "\u001b[0;31mTypeError\u001b[0m                                 Traceback (most recent call last)",
      "\u001b[0;31mTypeError\u001b[0m: only size-1 arrays can be converted to Python scalars",
      "\nThe above exception was the direct cause of the following exception:\n",
      "\u001b[0;31mValueError\u001b[0m                                Traceback (most recent call last)",
      "\u001b[0;32m/var/folders/lc/0pd94g0j0hx750lshn2s454r0000gn/T/ipykernel_20281/588784296.py\u001b[0m in \u001b[0;36m<module>\u001b[0;34m\u001b[0m\n\u001b[1;32m      8\u001b[0m \u001b[0;34m\u001b[0m\u001b[0m\n\u001b[1;32m      9\u001b[0m \u001b[0;32mfor\u001b[0m \u001b[0mi\u001b[0m \u001b[0;32min\u001b[0m \u001b[0mrange\u001b[0m\u001b[0;34m(\u001b[0m\u001b[0;36m0\u001b[0m\u001b[0;34m,\u001b[0m \u001b[0mit\u001b[0m \u001b[0;34m-\u001b[0m \u001b[0;36m1\u001b[0m\u001b[0;34m)\u001b[0m\u001b[0;34m:\u001b[0m\u001b[0;34m\u001b[0m\u001b[0;34m\u001b[0m\u001b[0m\n\u001b[0;32m---> 10\u001b[0;31m     \u001b[0mz\u001b[0m\u001b[0;34m[\u001b[0m\u001b[0mi\u001b[0m\u001b[0;34m,\u001b[0m \u001b[0mi\u001b[0m \u001b[0;34m+\u001b[0m \u001b[0;36m1\u001b[0m\u001b[0;34m]\u001b[0m \u001b[0;34m=\u001b[0m \u001b[0mb\u001b[0m\u001b[0;34m[\u001b[0m\u001b[0mi\u001b[0m \u001b[0;34m+\u001b[0m \u001b[0;36m1\u001b[0m\u001b[0;34m]\u001b[0m\u001b[0;34m\u001b[0m\u001b[0;34m\u001b[0m\u001b[0m\n\u001b[0m\u001b[1;32m     11\u001b[0m     \u001b[0mz\u001b[0m\u001b[0;34m[\u001b[0m\u001b[0mi\u001b[0m \u001b[0;34m+\u001b[0m \u001b[0;36m1\u001b[0m\u001b[0;34m,\u001b[0m \u001b[0mi\u001b[0m\u001b[0;34m]\u001b[0m \u001b[0;34m=\u001b[0m \u001b[0mb\u001b[0m\u001b[0;34m[\u001b[0m\u001b[0mi\u001b[0m \u001b[0;34m+\u001b[0m \u001b[0;36m1\u001b[0m\u001b[0;34m]\u001b[0m\u001b[0;34m\u001b[0m\u001b[0;34m\u001b[0m\u001b[0m\n\u001b[1;32m     12\u001b[0m     \u001b[0mz\u001b[0m\u001b[0;34m[\u001b[0m\u001b[0mi\u001b[0m\u001b[0;34m,\u001b[0m \u001b[0mi\u001b[0m\u001b[0;34m]\u001b[0m \u001b[0;34m=\u001b[0m \u001b[0ma\u001b[0m\u001b[0;34m[\u001b[0m\u001b[0mi\u001b[0m \u001b[0;34m+\u001b[0m \u001b[0;36m1\u001b[0m\u001b[0;34m]\u001b[0m\u001b[0;34m\u001b[0m\u001b[0;34m\u001b[0m\u001b[0m\n",
      "\u001b[0;31mValueError\u001b[0m: setting an array element with a sequence."
     ]
    }
   ],
   "source": [
    "z = np.zeros((4,4), dtype=float)\n",
    "a = np.zeros((4,4), dtype=float)\n",
    "b = np.zeros((4,4), dtype=float)\n",
    "a = np.array([[(2 * np.random.random() - 1.) for j in range(a.shape[1])] for j in range(a.shape[0])])\n",
    "b = np.array([[(2 * np.random.random() - 1.) for j in range(b.shape[1])] for j in range(b.shape[0])])\n",
    "\n",
    "it = 2\n",
    "\n",
    "for i in range(0, it - 1):\n",
    "    z[i, i + 1] = b[i + 1]\n",
    "    z[i + 1, i] = b[i + 1]\n",
    "    z[i, i] = a[i + 1]\n",
    "z[it - 1, it - 1] = a[it]"
   ]
  },
  {
   "cell_type": "code",
   "execution_count": 13,
   "id": "b894171c-6737-46d7-a37a-abd22d880d64",
   "metadata": {},
   "outputs": [
    {
     "ename": "ValueError",
     "evalue": "setting an array element with a sequence.",
     "output_type": "error",
     "traceback": [
      "\u001b[0;31m---------------------------------------------------------------------------\u001b[0m",
      "\u001b[0;31mTypeError\u001b[0m                                 Traceback (most recent call last)",
      "\u001b[0;31mTypeError\u001b[0m: only size-1 arrays can be converted to Python scalars",
      "\nThe above exception was the direct cause of the following exception:\n",
      "\u001b[0;31mValueError\u001b[0m                                Traceback (most recent call last)",
      "\u001b[0;32m/var/folders/lc/0pd94g0j0hx750lshn2s454r0000gn/T/ipykernel_20281/3972731671.py\u001b[0m in \u001b[0;36m<module>\u001b[0;34m\u001b[0m\n\u001b[0;32m----> 1\u001b[0;31m \u001b[0mz\u001b[0m\u001b[0;34m[\u001b[0m\u001b[0;36m0\u001b[0m\u001b[0;34m,\u001b[0m\u001b[0;36m1\u001b[0m\u001b[0;34m]\u001b[0m \u001b[0;34m=\u001b[0m \u001b[0mb\u001b[0m\u001b[0;34m[\u001b[0m\u001b[0;36m1\u001b[0m\u001b[0;34m]\u001b[0m\u001b[0;34m\u001b[0m\u001b[0;34m\u001b[0m\u001b[0m\n\u001b[0m",
      "\u001b[0;31mValueError\u001b[0m: setting an array element with a sequence."
     ]
    }
   ],
   "source": [
    "z[0,1] = b[1]"
   ]
  },
  {
   "cell_type": "code",
   "execution_count": 9,
   "id": "b17937a9-a954-49a0-bd61-f47576e09ef9",
   "metadata": {},
   "outputs": [
    {
     "data": {
      "text/plain": [
       "array([[-0.39364807, -0.12402251,  0.23382141,  0.74241799],\n",
       "       [ 0.66872673,  0.1404929 , -0.91933958, -0.95802114],\n",
       "       [ 0.97863405, -0.42907592, -0.84445589,  0.29592487],\n",
       "       [ 0.10214961,  0.69299587, -0.98942628,  0.88370775]])"
      ]
     },
     "execution_count": 9,
     "metadata": {},
     "output_type": "execute_result"
    }
   ],
   "source": [
    "b"
   ]
  },
  {
   "cell_type": "code",
   "execution_count": 15,
   "id": "e14cdafa-3c67-4376-9b97-974a49fae889",
   "metadata": {},
   "outputs": [],
   "source": [
    "x1 = np.matrix([[ 19.70242609,   0.72787879,  -4.15060936, -10.14108777],\n",
    "        [ 12.94611549,  11.85613195,  14.17209174,  -6.20426568],\n",
    "        [ -5.95384726,  -0.96818732,  11.98927026,   8.36927838],\n",
    "        [-51.55477904,  -2.4666921 ,  -1.42357175,  22.80196541]])"
   ]
  },
  {
   "cell_type": "code",
   "execution_count": 16,
   "id": "3e038a33-a190-456d-ba6a-ea412e375214",
   "metadata": {},
   "outputs": [],
   "source": [
    "def psi_dot_psi(psi1, psi2):\n",
    "    x = 0.\n",
    "    for i in range(psi1.shape[0]):\n",
    "        for j in range(psi2.shape[1]):\n",
    "            x += psi1[i, j] * psi2[i, j]\n",
    "    return x"
   ]
  },
  {
   "cell_type": "code",
   "execution_count": 17,
   "id": "97d8e72f-607d-44b0-b539-e5a4fe5a5916",
   "metadata": {},
   "outputs": [
    {
     "data": {
      "text/plain": [
       "4492.404589311173"
      ]
     },
     "execution_count": 17,
     "metadata": {},
     "output_type": "execute_result"
    }
   ],
   "source": [
    "psi_dot_psi(x1,x1)"
   ]
  },
  {
   "cell_type": "code",
   "execution_count": 18,
   "id": "8ba8e893-0f66-4b1b-b275-b50a4face5b5",
   "metadata": {},
   "outputs": [
    {
     "data": {
      "text/plain": [
       "-60.131344504652105"
      ]
     },
     "execution_count": 18,
     "metadata": {},
     "output_type": "execute_result"
    }
   ],
   "source": [
    "np.matrix(x1*x1).sum()"
   ]
  },
  {
   "cell_type": "code",
   "execution_count": 44,
   "id": "17052677-45ba-4faa-8496-18dd0ada3bff",
   "metadata": {},
   "outputs": [
    {
     "data": {
      "text/plain": [
       "array(4492.40458931)"
      ]
     },
     "execution_count": 44,
     "metadata": {},
     "output_type": "execute_result"
    }
   ],
   "source": [
    "np.tensordot(x1,x1)"
   ]
  },
  {
   "cell_type": "code",
   "execution_count": null,
   "id": "68fb8583-8e13-49bc-bb4d-3608c81f22a8",
   "metadata": {},
   "outputs": [],
   "source": []
  }
 ],
 "metadata": {
  "kernelspec": {
   "display_name": "Python 3 (ipykernel)",
   "language": "python",
   "name": "python3"
  },
  "language_info": {
   "codemirror_mode": {
    "name": "ipython",
    "version": 3
   },
   "file_extension": ".py",
   "mimetype": "text/x-python",
   "name": "python",
   "nbconvert_exporter": "python",
   "pygments_lexer": "ipython3",
   "version": "3.9.7"
  }
 },
 "nbformat": 4,
 "nbformat_minor": 5
}
