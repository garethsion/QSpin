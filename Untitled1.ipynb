{
 "cells": [
  {
   "cell_type": "code",
   "execution_count": 1,
   "id": "e4e5fcc8-ebd6-4644-a07f-bf2b5f3248ef",
   "metadata": {},
   "outputs": [
    {
     "name": "stdout",
     "output_type": "stream",
     "text": [
      "README.md\n",
      "Thermal and Magnetic Entanglement.ipynb\n",
      "Untitled.ipynb\n",
      "Untitled1.ipynb\n",
      "__pycache__\n",
      "build\n",
      "c_lanczos.c\n",
      "c_lanczos.cpython-310-darwin.so\n",
      "c_lanczos.pyx\n",
      "cython_testing\n",
      "figs\n",
      "get_gibbs_state.py\n",
      "lanczos.pyx\n",
      "main.py\n",
      "notebooks\n",
      "program.prof\n",
      "run_DMRG_Heisenberg.py\n",
      "run_snakeviz\n",
      "setup.py\n",
      "src\n",
      "tests\n",
      "thermal_entanglement.py\n",
      "venv\n"
     ]
    }
   ],
   "source": [
    "%%bash\n",
    "ls /Users/garethjones/Downloads/sample-input-1.txt"
   ]
  },
  {
   "cell_type": "code",
   "execution_count": 4,
   "id": "13ac0aea-c773-49e3-b91e-bb512d2f2851",
   "metadata": {},
   "outputs": [
    {
     "data": {
      "text/plain": [
       "date      2015-04-05\n",
       "price           1.05\n",
       "region       Atlanta\n",
       "dtype: object"
      ]
     },
     "execution_count": 4,
     "metadata": {},
     "output_type": "execute_result"
    }
   ],
   "source": [
    "df = pd.read_table('/Users/garethjones/Downloads/sample-input-1.txt', sep=',')\n",
    "df.min()"
   ]
  },
  {
   "cell_type": "code",
   "execution_count": 6,
   "id": "0e583024-c9a9-4ea7-84b9-df92efcb9732",
   "metadata": {},
   "outputs": [
    {
     "data": {
      "text/plain": [
       "date           2015-08-16\n",
       "price                1.12\n",
       "region    RichmondNorfolk\n",
       "dtype: object"
      ]
     },
     "execution_count": 6,
     "metadata": {},
     "output_type": "execute_result"
    }
   ],
   "source": [
    "df.max()"
   ]
  },
  {
   "cell_type": "code",
   "execution_count": 8,
   "id": "e73a5d5d-e72d-48fa-932a-3232f33505eb",
   "metadata": {},
   "outputs": [
    {
     "ename": "NameError",
     "evalue": "name 'mean' is not defined",
     "output_type": "error",
     "traceback": [
      "\u001b[0;31m---------------------------------------------------------------------------\u001b[0m",
      "\u001b[0;31mNameError\u001b[0m                                 Traceback (most recent call last)",
      "\u001b[0;32m/var/folders/lc/0pd94g0j0hx750lshn2s454r0000gn/T/ipykernel_5722/2825872560.py\u001b[0m in \u001b[0;36m<module>\u001b[0;34m\u001b[0m\n\u001b[0;32m----> 1\u001b[0;31m \u001b[0mmean\u001b[0m\u001b[0;34m(\u001b[0m\u001b[0mdf\u001b[0m\u001b[0;34m.\u001b[0m\u001b[0mprice\u001b[0m\u001b[0;34m)\u001b[0m\u001b[0;34m\u001b[0m\u001b[0;34m\u001b[0m\u001b[0m\n\u001b[0m",
      "\u001b[0;31mNameError\u001b[0m: name 'mean' is not defined"
     ]
    }
   ],
   "source": [
    "mean(df.price)"
   ]
  },
  {
   "cell_type": "code",
   "execution_count": 22,
   "id": "707150f2-32ea-4122-941d-33192eb26850",
   "metadata": {},
   "outputs": [],
   "source": [
    "import sys\n",
    "for line in sys.stdin:\n",
    "    print(line)"
   ]
  },
  {
   "cell_type": "code",
   "execution_count": null,
   "id": "2fa29604-191f-4fe8-8998-e5b705c6749c",
   "metadata": {},
   "outputs": [],
   "source": []
  }
 ],
 "metadata": {
  "kernelspec": {
   "display_name": "Python 3 (ipykernel)",
   "language": "python",
   "name": "python3"
  },
  "language_info": {
   "codemirror_mode": {
    "name": "ipython",
    "version": 3
   },
   "file_extension": ".py",
   "mimetype": "text/x-python",
   "name": "python",
   "nbconvert_exporter": "python",
   "pygments_lexer": "ipython3",
   "version": "3.9.7"
  }
 },
 "nbformat": 4,
 "nbformat_minor": 5
}
