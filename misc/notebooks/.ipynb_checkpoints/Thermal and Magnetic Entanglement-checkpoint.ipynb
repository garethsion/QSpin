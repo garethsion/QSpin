{
 "cells": [
  {
   "cell_type": "markdown",
   "id": "e5a5d6be-30b0-4dc5-99c6-7adb77a20d2e",
   "metadata": {},
   "source": [
    "Expanding on [M. C. Arnesen, S. Bose, and V. Vedral - \" \"Natural Thermal and Magnetic Entanglement in the 1D Heisenberg Model\". Phys. Rev. Let. vol. 87 (2001)]"
   ]
  },
  {
   "cell_type": "code",
   "execution_count": 1,
   "id": "a8a7e8d6-c786-4315-817f-048bb6e856d9",
   "metadata": {},
   "outputs": [],
   "source": [
    "import numpy as np\n",
    "from qutip import *\n",
    "import matplotlib.pyplot as plt\n",
    "import matplotlib as mpl\n",
    "\n",
    "from Hamiltonians import Hamiltonians\n",
    "from Entanglement import Entanglement\n",
    "\n",
    "mpl.rcParams['figure.figsize'] = (10,6)\n",
    "mpl.rcParams['figure.frameon'] = True\n",
    "mpl.rcParams['lines.linewidth'] = 2.0\n",
    "mpl.rcParams['font.size'] = 20\n",
    "mpl.rcParams['legend.fontsize'] = 18\n",
    "mpl.rcParams['legend.frameon'] = False"
   ]
  },
  {
   "cell_type": "code",
   "execution_count": 2,
   "id": "04e1cf6e-4175-4874-8c2c-6aad9d684f42",
   "metadata": {},
   "outputs": [
    {
     "data": {
      "image/png": "[encoded data removed]",
      "text/plain": [
       "<Figure size 720x432 with 1 Axes>"
      ]
     },
     "metadata": {
      "needs_background": "light"
     },
     "output_type": "display_data"
    }
   ],
   "source": [
    "def ground_state():\n",
    "    gamma = 0\n",
    "    J = 1\n",
    "    B = 0\n",
    "\n",
    "    Nrange = [2,3,4,5,6,7,8,9,10]\n",
    "    negativity = []\n",
    "\n",
    "    for N in Nrange:\n",
    "        hams = Hamiltonians(N=N)\n",
    "\n",
    "        H = hams.XY_hamiltonian(gamma=gamma, J=J, B=B)\n",
    "\n",
    "        ent = Entanglement()\n",
    "        \n",
    "        GS = ent.ground_state(H)\n",
    "        rho = ket2dm(GS)\n",
    "\n",
    "        ent = Entanglement()\n",
    "        pac = ent.get_partial_trace(rho=rho, num_spins=[1, N-2, 1], trace_out_sys='b')\n",
    "        pac_ta = ent.get_partial_transpose(rho=pac, mask=[1, 0], method=\"sparse\")\n",
    "        negativity.append(ent.negativity(pac_ta))\n",
    "\n",
    "    plt.plot(Nrange, negativity, 's-', color='k')\n",
    "    plt.xlabel('Spin Chain Size')\n",
    "    plt.ylabel('Negativity')\n",
    "    plt.title('Single Spins at Both Ends')\n",
    "    plt.show()\n",
    "\n",
    "if __name__=='__main__':\n",
    "    ground_state()"
   ]
  },
  {
   "cell_type": "code",
   "execution_count": 19,
   "id": "c1abf419-5fe6-439e-87a1-5ad6ce2ba6f1",
   "metadata": {},
   "outputs": [],
   "source": [
    "from scipy.sparse.linalg import eigs\n",
    "def ground_state(H=[]):\n",
    "    Ene, Vec = eigs(H,2)\n",
    "    GS = Vec[:,1]\n",
    "    return Qobj(GS, type='Ket')\n",
    "\n",
    "def thermal_state(H=[], T=1, K=1, sys='b', dims=[]):\n",
    "    ent = Entanglement()\n",
    "\n",
    "    dimA = dims[0]\n",
    "    dimB = dims[1]\n",
    "    dimC = dims[2]\n",
    "\n",
    "    beta = 1/(K*T)\n",
    "    Ene, Vec = eigs(H)\n",
    "\n",
    "    Z = np.sum(np.exp(-Ene * beta))\n",
    "    Prob = (1/Z) * np.exp(-Ene * beta)\n",
    "\n",
    "    thermal = np.zeros((dimA*dimC, dimA*dimC), dtype='float')\n",
    "    thermal = Qobj(thermal, dims=[[2,2], [2,2]])\n",
    "\n",
    "    for num in range(0,len(Ene)):\n",
    "        psi = Qobj(Vec[:,num], type='ket')\n",
    "        rho = ket2dm(psi)\n",
    "        rho_tr = ent.get_partial_trace(rho=rho, num_spins=[1, N-2, 1], trace_out_sys='b')\n",
    "        thermal = thermal + Prob[num]*rho_tr\n",
    "    return thermal"
   ]
  },
  {
   "cell_type": "code",
   "execution_count": 2,
   "id": "5f42e0ef-7400-40bb-b9b1-0073c9963df3",
   "metadata": {},
   "outputs": [
    {
     "ename": "TypeError",
     "evalue": "get_partial_trace() got an unexpected keyword argument 'num_spins'",
     "output_type": "error",
     "traceback": [
      "\u001b[0;31m---------------------------------------------------------------------------\u001b[0m",
      "\u001b[0;31mTypeError\u001b[0m                                 Traceback (most recent call last)",
      "\u001b[0;32m/var/folders/lc/0pd94g0j0hx750lshn2s454r0000gn/T/ipykernel_9448/3615303910.py\u001b[0m in \u001b[0;36m<module>\u001b[0;34m\u001b[0m\n\u001b[1;32m     44\u001b[0m \u001b[0;34m\u001b[0m\u001b[0m\n\u001b[1;32m     45\u001b[0m \u001b[0;32mif\u001b[0m \u001b[0m__name__\u001b[0m\u001b[0;34m==\u001b[0m\u001b[0;34m'__main__'\u001b[0m\u001b[0;34m:\u001b[0m\u001b[0;34m\u001b[0m\u001b[0;34m\u001b[0m\u001b[0m\n\u001b[0;32m---> 46\u001b[0;31m     \u001b[0mrun_thermal_state_sweep\u001b[0m\u001b[0;34m(\u001b[0m\u001b[0;34m)\u001b[0m\u001b[0;34m\u001b[0m\u001b[0;34m\u001b[0m\u001b[0m\n\u001b[0m",
      "\u001b[0;32m/var/folders/lc/0pd94g0j0hx750lshn2s454r0000gn/T/ipykernel_9448/3615303910.py\u001b[0m in \u001b[0;36mrun_thermal_state_sweep\u001b[0;34m()\u001b[0m\n\u001b[1;32m     32\u001b[0m     \u001b[0mnegativity\u001b[0m \u001b[0;34m=\u001b[0m \u001b[0;34m[\u001b[0m\u001b[0;34m]\u001b[0m\u001b[0;34m\u001b[0m\u001b[0;34m\u001b[0m\u001b[0m\n\u001b[1;32m     33\u001b[0m     \u001b[0;32mfor\u001b[0m \u001b[0mt\u001b[0m \u001b[0;32min\u001b[0m \u001b[0mtvec\u001b[0m\u001b[0;34m:\u001b[0m\u001b[0;34m\u001b[0m\u001b[0;34m\u001b[0m\u001b[0m\n\u001b[0;32m---> 34\u001b[0;31m         \u001b[0mrho_th\u001b[0m \u001b[0;34m=\u001b[0m \u001b[0ment\u001b[0m\u001b[0;34m.\u001b[0m\u001b[0mthermal_state\u001b[0m\u001b[0;34m(\u001b[0m\u001b[0mH\u001b[0m\u001b[0;34m=\u001b[0m\u001b[0mH\u001b[0m\u001b[0;34m,\u001b[0m \u001b[0mT\u001b[0m\u001b[0;34m=\u001b[0m\u001b[0mt\u001b[0m\u001b[0;34m,\u001b[0m \u001b[0mK\u001b[0m\u001b[0;34m=\u001b[0m\u001b[0;36m1\u001b[0m\u001b[0;34m,\u001b[0m \u001b[0msys\u001b[0m\u001b[0;34m=\u001b[0m\u001b[0;34m'b'\u001b[0m\u001b[0;34m,\u001b[0m \u001b[0mN\u001b[0m\u001b[0;34m=\u001b[0m\u001b[0mN\u001b[0m\u001b[0;34m,\u001b[0m \u001b[0mdims\u001b[0m\u001b[0;34m=\u001b[0m\u001b[0mdims\u001b[0m\u001b[0;34m)\u001b[0m\u001b[0;34m\u001b[0m\u001b[0;34m\u001b[0m\u001b[0m\n\u001b[0m\u001b[1;32m     35\u001b[0m         \u001b[0mprint\u001b[0m\u001b[0;34m(\u001b[0m\u001b[0mrho_th\u001b[0m\u001b[0;34m.\u001b[0m\u001b[0mshape\u001b[0m\u001b[0;34m)\u001b[0m\u001b[0;34m\u001b[0m\u001b[0;34m\u001b[0m\u001b[0m\n\u001b[1;32m     36\u001b[0m         \u001b[0mpac_ta\u001b[0m \u001b[0;34m=\u001b[0m \u001b[0ment\u001b[0m\u001b[0;34m.\u001b[0m\u001b[0mget_partial_transpose\u001b[0m\u001b[0;34m(\u001b[0m\u001b[0mrho\u001b[0m\u001b[0;34m=\u001b[0m\u001b[0mrho_th\u001b[0m\u001b[0;34m,\u001b[0m \u001b[0mmask\u001b[0m\u001b[0;34m=\u001b[0m\u001b[0;34m[\u001b[0m\u001b[0;36m1\u001b[0m\u001b[0;34m,\u001b[0m \u001b[0;36m0\u001b[0m\u001b[0;34m]\u001b[0m\u001b[0;34m,\u001b[0m \u001b[0mmethod\u001b[0m\u001b[0;34m=\u001b[0m\u001b[0;34m\"sparse\"\u001b[0m\u001b[0;34m)\u001b[0m\u001b[0;34m\u001b[0m\u001b[0;34m\u001b[0m\u001b[0m\n",
      "\u001b[0;32m~/Documents/PhD Work/PhD_Files/Oxford/SpinChain_SideProject/Entanglement.py\u001b[0m in \u001b[0;36mthermal_state\u001b[0;34m(self, H, T, K, sys, N, dims)\u001b[0m\n\u001b[1;32m     76\u001b[0m             \u001b[0mpsi\u001b[0m \u001b[0;34m=\u001b[0m \u001b[0mQobj\u001b[0m\u001b[0;34m(\u001b[0m\u001b[0mVec\u001b[0m\u001b[0;34m[\u001b[0m\u001b[0;34m:\u001b[0m\u001b[0;34m,\u001b[0m\u001b[0mnum\u001b[0m\u001b[0;34m]\u001b[0m\u001b[0;34m,\u001b[0m \u001b[0mtype\u001b[0m\u001b[0;34m=\u001b[0m\u001b[0;34m'ket'\u001b[0m\u001b[0;34m)\u001b[0m\u001b[0;34m\u001b[0m\u001b[0;34m\u001b[0m\u001b[0m\n\u001b[1;32m     77\u001b[0m             \u001b[0mrho\u001b[0m \u001b[0;34m=\u001b[0m \u001b[0mket2dm\u001b[0m\u001b[0;34m(\u001b[0m\u001b[0mpsi\u001b[0m\u001b[0;34m)\u001b[0m\u001b[0;34m\u001b[0m\u001b[0;34m\u001b[0m\u001b[0m\n\u001b[0;32m---> 78\u001b[0;31m             \u001b[0mrho_tr\u001b[0m \u001b[0;34m=\u001b[0m \u001b[0mself\u001b[0m\u001b[0;34m.\u001b[0m\u001b[0mget_partial_trace\u001b[0m\u001b[0;34m(\u001b[0m\u001b[0mrho\u001b[0m\u001b[0;34m=\u001b[0m\u001b[0mrho\u001b[0m\u001b[0;34m,\u001b[0m \u001b[0mnum_spins\u001b[0m\u001b[0;34m=\u001b[0m\u001b[0;34m[\u001b[0m\u001b[0;36m1\u001b[0m\u001b[0;34m,\u001b[0m \u001b[0mN\u001b[0m\u001b[0;34m-\u001b[0m\u001b[0;36m2\u001b[0m\u001b[0;34m,\u001b[0m \u001b[0;36m1\u001b[0m\u001b[0;34m]\u001b[0m\u001b[0;34m,\u001b[0m \u001b[0mdims\u001b[0m\u001b[0;34m=\u001b[0m\u001b[0mdims\u001b[0m\u001b[0;34m,\u001b[0m \u001b[0mtrace_out_sys\u001b[0m\u001b[0;34m=\u001b[0m\u001b[0;34m'b'\u001b[0m\u001b[0;34m)\u001b[0m\u001b[0;34m\u001b[0m\u001b[0;34m\u001b[0m\u001b[0m\n\u001b[0m\u001b[1;32m     79\u001b[0m             \u001b[0mthermal\u001b[0m \u001b[0;34m=\u001b[0m \u001b[0mthermal\u001b[0m \u001b[0;34m+\u001b[0m \u001b[0mProb\u001b[0m\u001b[0;34m[\u001b[0m\u001b[0mnum\u001b[0m\u001b[0;34m]\u001b[0m\u001b[0;34m*\u001b[0m\u001b[0mrho_tr\u001b[0m\u001b[0;34m\u001b[0m\u001b[0;34m\u001b[0m\u001b[0m\n\u001b[1;32m     80\u001b[0m         \u001b[0;32mreturn\u001b[0m \u001b[0mthermal\u001b[0m\u001b[0;34m\u001b[0m\u001b[0;34m\u001b[0m\u001b[0m\n",
      "\u001b[0;31mTypeError\u001b[0m: get_partial_trace() got an unexpected keyword argument 'num_spins'"
     ]
    }
   ],
   "source": [
    "import numpy as np\n",
    "from qutip import *\n",
    "import matplotlib.pyplot as plt\n",
    "import matplotlib as mpl\n",
    "\n",
    "from Hamiltonians import Hamiltonians\n",
    "from Entanglement import Entanglement\n",
    "\n",
    "mpl.rcParams['figure.figsize'] = (10,6)\n",
    "mpl.rcParams['figure.frameon'] = True\n",
    "mpl.rcParams['lines.linewidth'] = 2.0\n",
    "mpl.rcParams['font.size'] = 20\n",
    "mpl.rcParams['legend.fontsize'] = 18\n",
    "mpl.rcParams['legend.frameon'] = False\n",
    "\n",
    "def run_thermal_state_sweep():\n",
    "\n",
    "    gamma = 0\n",
    "    J = 1\n",
    "    B = 0\n",
    "\n",
    "    negativity = []\n",
    "    N = 3\n",
    "\n",
    "    hams = Hamiltonians(N=N)\n",
    "    H = hams.XY_hamiltonian(gamma=gamma, J=J, B=B)\n",
    "\n",
    "    ent = Entanglement()\n",
    "    dims = [2,2,2]\n",
    "    tvec = np.arange(0.1,2.1,0.1)\n",
    "\n",
    "    negativity = []\n",
    "    for t in tvec:\n",
    "        rho_th = ent.thermal_state(H=H, T=t, K=1, sys='b', N=N, dims=dims)\n",
    "        print(rho_th.shape)\n",
    "        pac_ta = ent.get_partial_transpose(rho=rho_th, mask=[1, 0], method=\"sparse\")\n",
    "        negativity.append(ent.negativity(pac_ta))\n",
    "\n",
    "    plt.plot(tvec, negativity, 's-', color='k')\n",
    "    plt.xlabel('T/J')\n",
    "    plt.ylabel('Negativity')\n",
    "    # plt.title('Single Spins at Both Ends')\n",
    "    plt.show()\n",
    "    \n",
    "if __name__=='__main__':\n",
    "    run_thermal_state_sweep()"
   ]
  },
  {
   "cell_type": "code",
   "execution_count": 11,
   "id": "42733bab-8455-4dfa-96d3-133ccb3c4ee5",
   "metadata": {},
   "outputs": [
    {
     "data": {
      "text/plain": [
       "False"
      ]
     },
     "execution_count": 11,
     "metadata": {},
     "output_type": "execute_result"
    }
   ],
   "source": [
    "from qutip import *\n",
    "\n",
    "tensor(identity(2), identity(2)).shape > (1, 1)"
   ]
  },
  {
   "cell_type": "code",
   "execution_count": null,
   "id": "50f5f3de-9f9f-41ff-84c4-c3bcbc7b5710",
   "metadata": {},
   "outputs": [],
   "source": []
  }
 ],
 "metadata": {
  "kernelspec": {
   "display_name": "Python 3 (ipykernel)",
   "language": "python",
   "name": "python3"
  },
  "language_info": {
   "codemirror_mode": {
    "name": "ipython",
    "version": 3
   },
   "file_extension": ".py",
   "mimetype": "text/x-python",
   "name": "python",
   "nbconvert_exporter": "python",
   "pygments_lexer": "ipython3",
   "version": "3.9.7"
  }
 },
 "nbformat": 4,
 "nbformat_minor": 5
}
