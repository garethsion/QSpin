{
 "cells": [
  {
   "cell_type": "code",
   "execution_count": 1,
   "id": "3e790bd8-fe06-4b9e-9992-f3e7da1771be",
   "metadata": {},
   "outputs": [],
   "source": [
    "import numpy as np\n",
    "import pandas as pd"
   ]
  },
  {
   "cell_type": "code",
   "execution_count": 9,
   "id": "232a8879-edc8-4dc4-8f30-cc9e35a82360",
   "metadata": {},
   "outputs": [],
   "source": [
    "# Pauli operators\n",
    "pauli_x = .5*np.matrix('0,1;1,0')\n",
    "pauli_y = .5*np.matrix('0,1j;-1j,0')\n",
    "pauli_z = .5*np.matrix('1,0;0,-1')"
   ]
  },
  {
   "cell_type": "code",
   "execution_count": 96,
   "id": "c6d859bc-3c35-4339-a0bb-47f5054e65a4",
   "metadata": {},
   "outputs": [],
   "source": [
    "# Spin raising and lowering operators\n",
    "Splus = pauli_x + 1j*pauli_y\n",
    "Sminus = pauli_x - 1j*pauli_y"
   ]
  },
  {
   "cell_type": "markdown",
   "id": "ee9d62c7-91d2-4b30-9025-a04586be804e",
   "metadata": {},
   "source": [
    "### Diagonalized XX Hamiltonian"
   ]
  },
  {
   "cell_type": "code",
   "execution_count": 97,
   "id": "ac59ecd8-77b7-49eb-9cec-c147706939c9",
   "metadata": {},
   "outputs": [],
   "source": [
    "N = 4\n",
    "m = np.arange(1,N,1)\n",
    "k = lambda m : 2*np.pi*m/N\n",
    "\n",
    "# dk = 1/np.sqrt(N) * np.sum( np.exp(-1j*k*m) ) * np.kron(Sminus,np.eye(N-2))\n",
    "# dk_dag = 1/np.sqrt(N) * np.sum( np.exp(1j*k*m) ) * np.kron(Splus, np.eye(N-2))"
   ]
  },
  {
   "cell_type": "code",
   "execution_count": 98,
   "id": "88d4acaa-aa47-4a78-9bfd-e6efe0fd102b",
   "metadata": {},
   "outputs": [],
   "source": [
    "dk_func = lambda m : 1/np.sqrt(N) * np.exp(-1j*k(m)*m) * np.kron(Sminus,np.eye(N-2))\n",
    "dk_dag_func = lambda m : 1/np.sqrt(N) * np.exp(-1j*k(m)*m) * np.kron(Splus, np.eye(N-2))"
   ]
  },
  {
   "cell_type": "code",
   "execution_count": 106,
   "id": "83606cdd-dd9f-4ff9-9def-6362c27d2b59",
   "metadata": {},
   "outputs": [
    {
     "data": {
      "text/plain": [
       "matrix([[ 0.  +0.000000e+00j,  0.  +0.000000e+00j,  0.  +0.000000e+00j,\n",
       "          0.  +0.000000e+00j],\n",
       "        [ 0.  +0.000000e+00j,  0.  +0.000000e+00j,  0.  +0.000000e+00j,\n",
       "          0.  +0.000000e+00j],\n",
       "        [ 0.  +0.000000e+00j,  0.  +0.000000e+00j, -0.25-3.061617e-17j,\n",
       "          0.  +0.000000e+00j],\n",
       "        [ 0.  +0.000000e+00j,  0.  +0.000000e+00j,  0.  +0.000000e+00j,\n",
       "         -0.25-3.061617e-17j]])"
      ]
     },
     "execution_count": 106,
     "metadata": {},
     "output_type": "execute_result"
    }
   ],
   "source": [
    "dk_dag_func(1) * dk_func(1)"
   ]
  },
  {
   "cell_type": "code",
   "execution_count": null,
   "id": "a9f24ec7-fdd2-45e8-9c72-f6cb24527e63",
   "metadata": {},
   "outputs": [],
   "source": []
  },
  {
   "cell_type": "code",
   "execution_count": 91,
   "id": "2e6f6378-ce95-4651-b3f1-84237861e8d1",
   "metadata": {},
   "outputs": [],
   "source": [
    "J = 1\n",
    "B = 1\n",
    "\n",
    "for m in range(1,N):\n",
    "    H = J * np.cos(m - B) * dk_dag_func(m)*dk_func(m)"
   ]
  },
  {
   "cell_type": "code",
   "execution_count": 92,
   "id": "58df0aad-5687-47c2-9558-d727face5c1b",
   "metadata": {},
   "outputs": [
    {
     "data": {
      "text/plain": [
       "matrix([[0.+0.j, 0.+0.j],\n",
       "        [0.+0.j, 0.+0.j],\n",
       "        [0.+0.j, 0.+0.j],\n",
       "        [0.+0.j, 0.+0.j]])"
      ]
     },
     "execution_count": 92,
     "metadata": {},
     "output_type": "execute_result"
    }
   ],
   "source": [
    "zero = np.matrix('1;0')\n",
    "dk_dag_func(1)*dk_func(1)*np.kron(zero, np.eye(2))"
   ]
  },
  {
   "cell_type": "code",
   "execution_count": 117,
   "id": "96662424-c384-485c-95e4-60fe6c4ecf2c",
   "metadata": {},
   "outputs": [
    {
     "data": {
      "text/plain": [
       "matrix([[0.00000000e+00, 0.00000000e+00, 0.00000000e+00, 0.00000000e+00],\n",
       "        [0.00000000e+00, 0.00000000e+00, 0.00000000e+00, 0.00000000e+00],\n",
       "        [0.00000000e+00, 0.00000000e+00, 7.65404249e-17, 0.00000000e+00],\n",
       "        [0.00000000e+00, 0.00000000e+00, 0.00000000e+00, 7.65404249e-17]])"
      ]
     },
     "execution_count": 117,
     "metadata": {},
     "output_type": "execute_result"
    }
   ],
   "source": [
    "np.real(dk_dag_func(1) * dk_func(2))"
   ]
  },
  {
   "cell_type": "code",
   "execution_count": 116,
   "id": "f5e2d38a-ab89-4c55-b804-4086c9a6531b",
   "metadata": {},
   "outputs": [
    {
     "data": {
      "text/plain": [
       "matrix([[0.+0.j, 0.+0.j],\n",
       "        [0.+0.j, 0.+0.j],\n",
       "        [0.+0.j, 0.+0.j],\n",
       "        [0.+0.j, 0.+0.j]])"
      ]
     },
     "execution_count": 116,
     "metadata": {},
     "output_type": "execute_result"
    }
   ],
   "source": [
    "dk_dag_func(1) * dk_func(2)*np.kron(zero, np.eye(2))\n",
    "# dk_dag_func(2) * dk_func(2)*np.kron(zero, np.eye(2))\n",
    "# dk_dag_func(3) * dk_func(3)*np.kron(zero, np.eye(2))\n",
    "# dk_dag_func(4) * dk_func(4)*np.kron(zero, np.eye(2))"
   ]
  },
  {
   "cell_type": "code",
   "execution_count": 109,
   "id": "84cda71b-38d4-48a1-bfda-6bcdf52e4b70",
   "metadata": {},
   "outputs": [
    {
     "data": {
      "text/plain": [
       "matrix([[ 0.  +0.000000e+00j,  0.  +0.000000e+00j,  0.  +0.000000e+00j,\n",
       "          0.  +0.000000e+00j],\n",
       "        [ 0.  +0.000000e+00j,  0.  +0.000000e+00j,  0.  +0.000000e+00j,\n",
       "          0.  +0.000000e+00j],\n",
       "        [ 0.  +0.000000e+00j,  0.  +0.000000e+00j, -0.25-3.061617e-17j,\n",
       "          0.  +0.000000e+00j],\n",
       "        [ 0.  +0.000000e+00j,  0.  +0.000000e+00j,  0.  +0.000000e+00j,\n",
       "         -0.25-3.061617e-17j]])"
      ]
     },
     "execution_count": 109,
     "metadata": {},
     "output_type": "execute_result"
    }
   ],
   "source": [
    "dk_dag_func(1) * dk_func(1)"
   ]
  },
  {
   "cell_type": "code",
   "execution_count": 20,
   "id": "868bdeeb-a6ec-423c-a12e-a166a46f5d62",
   "metadata": {},
   "outputs": [
    {
     "data": {
      "text/plain": [
       "matrix([[ 0.        +0.j,  0.        +0.j],\n",
       "        [ 0.        +0.j, -0.67537788+0.j]])"
      ]
     },
     "execution_count": 20,
     "metadata": {},
     "output_type": "execute_result"
    }
   ],
   "source": [
    "J = 1\n",
    "B = 1\n",
    "np.sum((J * np.cos(k-B))) * dk_dag*dk"
   ]
  },
  {
   "cell_type": "code",
   "execution_count": 21,
   "id": "8c1dc579-69b8-45b8-8c5c-4510598ebb10",
   "metadata": {},
   "outputs": [],
   "source": [
    "zero = np.matrix('1;0')"
   ]
  },
  {
   "cell_type": "code",
   "execution_count": 95,
   "id": "0e314859-6f04-4bbf-9891-18c77135ed87",
   "metadata": {},
   "outputs": [
    {
     "ename": "TypeError",
     "evalue": "unsupported operand type(s) for *: 'function' and 'function'",
     "output_type": "error",
     "traceback": [
      "\u001b[0;31m---------------------------------------------------------------------------\u001b[0m",
      "\u001b[0;31mTypeError\u001b[0m                                 Traceback (most recent call last)",
      "\u001b[0;32m/var/folders/lc/0pd94g0j0hx750lshn2s454r0000gn/T/ipykernel_1652/3795654501.py\u001b[0m in \u001b[0;36m<module>\u001b[0;34m\u001b[0m\n\u001b[0;32m----> 1\u001b[0;31m \u001b[0mdk_dag\u001b[0m\u001b[0;34m*\u001b[0m\u001b[0mdk_dag\u001b[0m\u001b[0;34m*\u001b[0m\u001b[0mzero\u001b[0m\u001b[0;34m\u001b[0m\u001b[0;34m\u001b[0m\u001b[0m\n\u001b[0m",
      "\u001b[0;31mTypeError\u001b[0m: unsupported operand type(s) for *: 'function' and 'function'"
     ]
    }
   ],
   "source": [
    "dk_dag*dk_dag*zero"
   ]
  },
  {
   "cell_type": "code",
   "execution_count": null,
   "id": "b995afba-6665-4c17-ac34-b3713ca7163c",
   "metadata": {},
   "outputs": [],
   "source": []
  },
  {
   "cell_type": "markdown",
   "id": "a1c954cb-72f3-42bc-9881-15ac2d4240cb",
   "metadata": {},
   "source": [
    "### NV Centre Effective Hamiltonian\n",
    "\n",
    "\n",
    "$H_{eff} = \\kappa \\sum_{i=1}^{N-1} \\left( \\sigma_{+}^{i}\\sigma_{-}^{i+1} + \\sigma_{-}^{i}\\sigma_{+}^{i+1} \\right) + g \\sum_{j=0,N} \\sigma_{+}^{j}\\sigma_{-}^{j+1} + \\sigma_{-}^{j}\\sigma_{+}^{j+1}$"
   ]
  },
  {
   "cell_type": "code",
   "execution_count": 78,
   "id": "2ddb61a5-08a5-4cc3-a7cb-b8ab2f41a0f2",
   "metadata": {},
   "outputs": [],
   "source": [
    "def nv_nitrogen_effective_hamiltonian(N,k,g):\n",
    "    # Effective Hamiltonian for a spin chain with two register NV spins at either end \n",
    "    # of a chain of nitrogen spins\n",
    "    \n",
    "    sx = np.matrix('0 1; 1 0')\n",
    "    sy = np.matrix('0 -1j; 1j 0')\n",
    "    sz = np.matrix('1 0; 0 -1')\n",
    "    \n",
    "    splus = .5*(sx + 1j*sy)\n",
    "    sminus = .5*(sx - 1j*sy)\n",
    "\n",
    "    H = np.zeros((2**N,2**N));\n",
    "\n",
    "    for num in range(0,N-1):\n",
    "        if num == 0:\n",
    "            H=H+g*np.kron(splus,np.kron(sminus,np.eye(2**(N-num-2)))) +\\\n",
    "                g*np.kron(sminus,np.kron(splus,np.eye(2**(N-num-2))))\n",
    "        elif (num>0) & (num <= N-1):\n",
    "            H=H+k*np.kron(np.eye(2**(num)),np.kron(splus,np.kron(sminus,np.eye(2**(N-num-2)))))+\\\n",
    "                k*np.kron(np.eye(2**(num)),np.kron(sminus,np.kron(splus,np.eye(2**(N-num-2)))))\n",
    "        elif num == N-1:\n",
    "            H=H+g*np.kron(np.eye(2**(N-num-2)),np.kron(splus,sminus)) +\\\n",
    "                g*np.kron(np.eye(2**(N-num-2)),np.kron(sminus,splus))\n",
    "    return H"
   ]
  },
  {
   "cell_type": "code",
   "execution_count": 79,
   "id": "75191183-6223-4278-bcfa-d8872773cc23",
   "metadata": {},
   "outputs": [
    {
     "data": {
      "text/plain": [
       "matrix([[0., 0., 0., 0., 0., 0., 0., 0., 0., 0., 0., 0., 0., 0., 0., 0.],\n",
       "        [0., 0., 1., 0., 0., 0., 0., 0., 0., 0., 0., 0., 0., 0., 0., 0.],\n",
       "        [0., 1., 0., 0., 1., 0., 0., 0., 0., 0., 0., 0., 0., 0., 0., 0.],\n",
       "        [0., 0., 0., 0., 0., 1., 0., 0., 0., 0., 0., 0., 0., 0., 0., 0.],\n",
       "        [0., 0., 1., 0., 0., 0., 0., 0., 1., 0., 0., 0., 0., 0., 0., 0.],\n",
       "        [0., 0., 0., 1., 0., 0., 1., 0., 0., 1., 0., 0., 0., 0., 0., 0.],\n",
       "        [0., 0., 0., 0., 0., 1., 0., 0., 0., 0., 1., 0., 0., 0., 0., 0.],\n",
       "        [0., 0., 0., 0., 0., 0., 0., 0., 0., 0., 0., 1., 0., 0., 0., 0.],\n",
       "        [0., 0., 0., 0., 1., 0., 0., 0., 0., 0., 0., 0., 0., 0., 0., 0.],\n",
       "        [0., 0., 0., 0., 0., 1., 0., 0., 0., 0., 1., 0., 0., 0., 0., 0.],\n",
       "        [0., 0., 0., 0., 0., 0., 1., 0., 0., 1., 0., 0., 1., 0., 0., 0.],\n",
       "        [0., 0., 0., 0., 0., 0., 0., 1., 0., 0., 0., 0., 0., 1., 0., 0.],\n",
       "        [0., 0., 0., 0., 0., 0., 0., 0., 0., 0., 1., 0., 0., 0., 0., 0.],\n",
       "        [0., 0., 0., 0., 0., 0., 0., 0., 0., 0., 0., 1., 0., 0., 1., 0.],\n",
       "        [0., 0., 0., 0., 0., 0., 0., 0., 0., 0., 0., 0., 0., 1., 0., 0.],\n",
       "        [0., 0., 0., 0., 0., 0., 0., 0., 0., 0., 0., 0., 0., 0., 0., 0.]])"
      ]
     },
     "execution_count": 79,
     "metadata": {},
     "output_type": "execute_result"
    }
   ],
   "source": [
    "N = 4\n",
    "g = 1\n",
    "k = 1\n",
    "np.real(nv_Heff(N,k,g))"
   ]
  },
  {
   "cell_type": "code",
   "execution_count": 91,
   "id": "e01eedac-17ee-4f17-ae4f-8db96366441e",
   "metadata": {},
   "outputs": [
    {
     "data": {
      "text/plain": [
       "[0.8090169943749475, 1.618033988749895, 2.4270509831248424, 3.23606797749979]"
      ]
     },
     "execution_count": 91,
     "metadata": {},
     "output_type": "execute_result"
    }
   ],
   "source": [
    "En = []\n",
    "for n in range(1,N+1):\n",
    "    En.append(n*k*np.cos(1*(np.pi/(N+1))))\n",
    "En"
   ]
  },
  {
   "cell_type": "code",
   "execution_count": 92,
   "id": "e732ac25-a45b-41ea-8bae-40caae79561c",
   "metadata": {},
   "outputs": [
    {
     "data": {
      "text/plain": [
       "array([ 0.6545085 ,  2.61803399,  5.89057647, 10.47213595])"
      ]
     },
     "execution_count": 92,
     "metadata": {},
     "output_type": "execute_result"
    }
   ],
   "source": []
  },
  {
   "cell_type": "code",
   "execution_count": 95,
   "id": "e165a878-1a1d-4cc3-b475-2b6e2de28676",
   "metadata": {},
   "outputs": [],
   "source": [
    "dt = 1e-06\n",
    "\n",
    "psi = np.\n",
    "for t in range(100):\n",
    "    psi = np.exp(-1j* np.real(En * np.transpose(En)) * t+dt)"
   ]
  },
  {
   "cell_type": "code",
   "execution_count": 97,
   "id": "00d74156-d28b-4ddd-a2b9-94d34c8dd434",
   "metadata": {},
   "outputs": [
    {
     "data": {
      "text/plain": [
       "array([-0.3836008 -0.9235001j , -0.00397096-0.99999312j,\n",
       "        0.390923  +0.92042447j,  0.99987485-0.01588321j])"
      ]
     },
     "execution_count": 97,
     "metadata": {},
     "output_type": "execute_result"
    }
   ],
   "source": [
    "psi"
   ]
  },
  {
   "cell_type": "code",
   "execution_count": null,
   "id": "1eca1af3-4576-45be-bc7a-72582583f298",
   "metadata": {},
   "outputs": [],
   "source": []
  }
 ],
 "metadata": {
  "kernelspec": {
   "display_name": "Python 3 (ipykernel)",
   "language": "python",
   "name": "python3"
  },
  "language_info": {
   "codemirror_mode": {
    "name": "ipython",
    "version": 3
   },
   "file_extension": ".py",
   "mimetype": "text/x-python",
   "name": "python",
   "nbconvert_exporter": "python",
   "pygments_lexer": "ipython3",
   "version": "3.9.7"
  }
 },
 "nbformat": 4,
 "nbformat_minor": 5
}
