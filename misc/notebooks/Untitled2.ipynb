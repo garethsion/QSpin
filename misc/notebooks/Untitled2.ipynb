{
 "cells": [
  {
   "cell_type": "code",
   "execution_count": 11,
   "id": "9e6521ea-fd8d-414b-8bcc-f35d61978a17",
   "metadata": {},
   "outputs": [],
   "source": [
    "import matplotlib as mpl\n",
    "mpl.rcParams['figure.figsize'] = (10,6)\n",
    "mpl.rcParams['figure.frameon'] = True\n",
    "mpl.rcParams['lines.linewidth'] = 2.0\n",
    "mpl.rcParams['font.size'] = 18\n",
    "mpl.rcParams['legend.frameon'] = False"
   ]
  },
  {
   "cell_type": "markdown",
   "id": "357767b9-b8dc-408b-9d61-511cdd38aaab",
   "metadata": {},
   "source": [
    "# XX Model"
   ]
  },
  {
   "cell_type": "code",
   "execution_count": 97,
   "id": "ba1938e3-ca85-4d4a-9715-094881488d77",
   "metadata": {},
   "outputs": [],
   "source": [
    "B = 0\n",
    "\n",
    "N = 1\n",
    "k = np.linspace(0,N,20)\n",
    "H = B - 2*np.cos(2*np.pi*k/N)\n",
    "E = 2*np.cos(2*np.pi*k/N)"
   ]
  },
  {
   "cell_type": "code",
   "execution_count": 98,
   "id": "75c85700-3e8f-4ce7-aa2d-8cf3160ee975",
   "metadata": {},
   "outputs": [
    {
     "data": {
      "image/png": "[encoded data removed]",
      "text/plain": [
       "<Figure size 720x432 with 1 Axes>"
      ]
     },
     "metadata": {
      "needs_background": "light"
     },
     "output_type": "display_data"
    }
   ],
   "source": [
    "fig, ax = plt.subplots()\n",
    "ax.plot(k,E, 's', color='k')\n",
    "ax.set_xlabel('k')\n",
    "ax.set_ylabel('$2 \\cos(2\\pi k /N) $')\n",
    "ax.set_xticks(np.linspace(0,1,6))\n",
    "ax.set_xticklabels(['0','$k_{c}$','','','$N-k_{c}$','$N-1$'])\n",
    "ax.set_yticks(np.linspace(-2.0,2.0,9))\n",
    "ax.set_yticklabels(['-2.0', '-1.5', '-1.0', '-0.5', '0', '0.5', '$\\lambda=1$', '1.5', '2.0'])\n",
    "plt.show()"
   ]
  },
  {
   "cell_type": "code",
   "execution_count": 79,
   "id": "a62d3f27-a237-4e5a-80f4-280d8e814465",
   "metadata": {},
   "outputs": [
    {
     "name": "stderr",
     "output_type": "stream",
     "text": [
      "/Users/garethjones/opt/anaconda3/lib/python3.7/site-packages/ipykernel_launcher.py:2: RuntimeWarning: invalid value encountered in arccos\n",
      "  \n"
     ]
    },
    {
     "data": {
      "text/plain": [
       "nan"
      ]
     },
     "execution_count": 79,
     "metadata": {},
     "output_type": "execute_result"
    }
   ],
   "source": [
    "# Occupancy number\n",
    "kc = lambda N,B : np.floor((N/2*np.pi) * np.arccos(B/2))\n",
    "kc(2,3)"
   ]
  },
  {
   "cell_type": "code",
   "execution_count": null,
   "id": "3eb95daa-45ed-4531-b071-a313e35d72d0",
   "metadata": {},
   "outputs": [],
   "source": []
  }
 ],
 "metadata": {
  "kernelspec": {
   "display_name": "Python 3 (ipykernel)",
   "language": "python",
   "name": "python3"
  },
  "language_info": {
   "codemirror_mode": {
    "name": "ipython",
    "version": 3
   },
   "file_extension": ".py",
   "mimetype": "text/x-python",
   "name": "python",
   "nbconvert_exporter": "python",
   "pygments_lexer": "ipython3",
   "version": "3.9.7"
  }
 },
 "nbformat": 4,
 "nbformat_minor": 5
}
