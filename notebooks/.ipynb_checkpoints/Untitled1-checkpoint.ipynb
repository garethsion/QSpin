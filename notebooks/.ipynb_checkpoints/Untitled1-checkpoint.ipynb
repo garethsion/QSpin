{
 "cells": [
  {
   "cell_type": "code",
   "execution_count": null,
   "id": "3053728c-8bd8-4e10-897f-322fd70f1f14",
   "metadata": {},
   "outputs": [],
   "source": [
    "N = 3;\n",
    "J = 1;\n",
    "\n",
    "def heisenberg(N,J):\n",
    "\n",
    "    sx = np.matrix('0 1; 1 0')\n",
    "    sy = np.matrix('0 -1j; 1j 0')\n",
    "    sz = np.matrix('1 0; 0 -1')\n",
    "\n",
    "    H = np.zeros((2**N,2**N));\n",
    "\n",
    "    for num in range(0,N-1):\n",
    "        H=H+J*np.kron(np.eye(2**(num)),np.kron(sx,np.kron(sx,np.eye(2**(N-num-2)))))+\\\n",
    "            J*np.kron(np.eye(2**(num)),np.kron(sy,np.kron(sy,np.eye(2**(N-num-2)))))+\\\n",
    "            J*np.kron(np.eye(2**(num)),np.kron(sz,np.kron(sz,np.eye(2**(N-num-2)))));\n",
    "    return H"
   ]
  }
 ],
 "metadata": {
  "kernelspec": {
   "display_name": "Python 3 (ipykernel)",
   "language": "python",
   "name": "python3"
  },
  "language_info": {
   "codemirror_mode": {
    "name": "ipython",
    "version": 3
   },
   "file_extension": ".py",
   "mimetype": "text/x-python",
   "name": "python",
   "nbconvert_exporter": "python",
   "pygments_lexer": "ipython3",
   "version": "3.9.7"
  }
 },
 "nbformat": 4,
 "nbformat_minor": 5
}
