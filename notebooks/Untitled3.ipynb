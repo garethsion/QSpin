{
 "cells": [
  {
   "cell_type": "code",
   "execution_count": 2,
   "id": "0dec00a4-1eb6-4615-b161-51418f88b2d3",
   "metadata": {},
   "outputs": [],
   "source": [
    "import scipy\n",
    "from scipy.sparse import eye, kron, csr_matrix\n"
   ]
  },
  {
   "cell_type": "code",
   "execution_count": 6,
   "id": "fbe1c7e1-510a-4921-9680-7252ba2af12c",
   "metadata": {},
   "outputs": [],
   "source": [
    "H0 = []\n",
    "for i in range(5):\n",
    "    H0.append(csr_matrix((2,2), dtype=\"float\"))"
   ]
  },
  {
   "cell_type": "code",
   "execution_count": 16,
   "id": "3da14f48-56f6-407b-80d4-469adacc5843",
   "metadata": {},
   "outputs": [],
   "source": [
    "H0[1] = csr_matrix((4,4), dtype=\"float\")"
   ]
  },
  {
   "cell_type": "code",
   "execution_count": 17,
   "id": "2e9e9dc5-495a-44f9-a492-2ab0b83e1c3c",
   "metadata": {},
   "outputs": [
    {
     "data": {
      "text/plain": [
       "[<2x2 sparse matrix of type '<class 'numpy.float64'>'\n",
       " \twith 0 stored elements in Compressed Sparse Row format>,\n",
       " <4x4 sparse matrix of type '<class 'numpy.float64'>'\n",
       " \twith 0 stored elements in Compressed Sparse Row format>,\n",
       " <2x2 sparse matrix of type '<class 'numpy.float64'>'\n",
       " \twith 0 stored elements in Compressed Sparse Row format>,\n",
       " <2x2 sparse matrix of type '<class 'numpy.float64'>'\n",
       " \twith 0 stored elements in Compressed Sparse Row format>,\n",
       " <2x2 sparse matrix of type '<class 'numpy.float64'>'\n",
       " \twith 0 stored elements in Compressed Sparse Row format>]"
      ]
     },
     "execution_count": 17,
     "metadata": {},
     "output_type": "execute_result"
    }
   ],
   "source": [
    "H0"
   ]
  },
  {
   "cell_type": "code",
   "execution_count": null,
   "id": "838c20d1-ced7-4910-92e6-67f4b366ced1",
   "metadata": {},
   "outputs": [],
   "source": []
  }
 ],
 "metadata": {
  "kernelspec": {
   "display_name": "Python 3 (ipykernel)",
   "language": "python",
   "name": "python3"
  },
  "language_info": {
   "codemirror_mode": {
    "name": "ipython",
    "version": 3
   },
   "file_extension": ".py",
   "mimetype": "text/x-python",
   "name": "python",
   "nbconvert_exporter": "python",
   "pygments_lexer": "ipython3",
   "version": "3.9.7"
  }
 },
 "nbformat": 4,
 "nbformat_minor": 5
}
