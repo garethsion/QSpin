{
 "cells": [
  {
   "cell_type": "markdown",
   "id": "e5a5d6be-30b0-4dc5-99c6-7adb77a20d2e",
   "metadata": {},
   "source": [
    "Expanding on [M. C. Arnesen, S. Bose, and V. Vedral - \" \"Natural Thermal and Magnetic Entanglement in the 1D Heisenberg Model\". Phys. Rev. Let. vol. 87 (2001)]"
   ]
  },
  {
   "cell_type": "code",
   "execution_count": 1,
   "id": "a8a7e8d6-c786-4315-817f-048bb6e856d9",
   "metadata": {},
   "outputs": [],
   "source": [
    "import numpy as np\n",
    "from qutip import *\n",
    "import matplotlib.pyplot as plt\n",
    "import matplotlib as mpl\n",
    "\n",
    "from Hamiltonians import Hamiltonians\n",
    "from Entanglement import Entanglement\n",
    "\n",
    "mpl.rcParams['figure.figsize'] = (10,6)\n",
    "mpl.rcParams['figure.frameon'] = True\n",
    "mpl.rcParams['lines.linewidth'] = 2.0\n",
    "mpl.rcParams['font.size'] = 20\n",
    "mpl.rcParams['legend.fontsize'] = 18\n",
    "mpl.rcParams['legend.frameon'] = False"
   ]
  },
  {
   "cell_type": "code",
   "execution_count": 2,
   "id": "04e1cf6e-4175-4874-8c2c-6aad9d684f42",
   "metadata": {},
   "outputs": [
    {
     "data": {
      "image/png": "[encoded data removed]",
      "text/plain": [
       "<Figure size 720x432 with 1 Axes>"
      ]
     },
     "metadata": {
      "needs_background": "light"
     },
     "output_type": "display_data"
    }
   ],
   "source": [
    "def ground_state():\n",
    "    gamma = 0\n",
    "    J = 1\n",
    "    B = 0\n",
    "\n",
    "    Nrange = [2,3,4,5,6,7,8,9,10]\n",
    "    negativity = []\n",
    "\n",
    "    for N in Nrange:\n",
    "        hams = Hamiltonians(N=N)\n",
    "\n",
    "        H = hams.XY_hamiltonian(gamma=gamma, J=J, B=B)\n",
    "\n",
    "        ent = Entanglement()\n",
    "        \n",
    "        GS = ent.ground_state(H)\n",
    "        rho = ket2dm(GS)\n",
    "\n",
    "        ent = Entanglement()\n",
    "        pac = ent.get_partial_trace(rho=rho, num_spins=[1, N-2, 1], trace_out_sys='b')\n",
    "        pac_ta = ent.get_partial_transpose(rho=pac, mask=[1, 0], method=\"sparse\")\n",
    "        negativity.append(ent.negativity(pac_ta))\n",
    "\n",
    "    plt.plot(Nrange, negativity, 's-', color='k')\n",
    "    plt.xlabel('Spin Chain Size')\n",
    "    plt.ylabel('Negativity')\n",
    "    plt.title('Single Spins at Both Ends')\n",
    "    plt.show()\n",
    "\n",
    "if __name__=='__main__':\n",
    "    ground_state()"
   ]
  },
  {
   "cell_type": "code",
   "execution_count": 19,
   "id": "c1abf419-5fe6-439e-87a1-5ad6ce2ba6f1",
   "metadata": {},
   "outputs": [],
   "source": [
    "from scipy.sparse.linalg import eigs\n",
    "def ground_state(H=[]):\n",
    "    Ene, Vec = eigs(H,2)\n",
    "    GS = Vec[:,1]\n",
    "    return Qobj(GS, type='Ket')\n",
    "\n",
    "def thermal_state(H=[], T=1, K=1, sys='b', dims=[]):\n",
    "    ent = Entanglement()\n",
    "\n",
    "    dimA = dims[0]\n",
    "    dimB = dims[1]\n",
    "    dimC = dims[2]\n",
    "\n",
    "    beta = 1/(K*T)\n",
    "    Ene, Vec = eigs(H)\n",
    "\n",
    "    Z = np.sum(np.exp(-Ene * beta))\n",
    "    Prob = (1/Z) * np.exp(-Ene * beta)\n",
    "\n",
    "    thermal = np.zeros((dimA*dimC, dimA*dimC), dtype='float')\n",
    "    thermal = Qobj(thermal, dims=[[2,2], [2,2]])\n",
    "\n",
    "    for num in range(0,len(Ene)):\n",
    "        psi = Qobj(Vec[:,num], type='ket')\n",
    "        rho = ket2dm(psi)\n",
    "        rho_tr = ent.get_partial_trace(rho=rho, num_spins=[1, N-2, 1], trace_out_sys='b')\n",
    "        thermal = thermal + Prob[num]*rho_tr\n",
    "    return thermal"
   ]
  },
  {
   "cell_type": "code",
   "execution_count": 2,
   "id": "5f42e0ef-7400-40bb-b9b1-0073c9963df3",
   "metadata": {},
   "outputs": [
    {
     "ename": "TypeError",
     "evalue": "get_partial_trace() got an unexpected keyword argument 'num_spins'",
     "output_type": "error",
     "traceback": [
      "\u001b[0;31m---------------------------------------------------------------------------\u001b[0m",
      "\u001b[0;31mTypeError\u001b[0m                                 Traceback (most recent call last)",
      "\u001b[0;32m/var/folders/lc/0pd94g0j0hx750lshn2s454r0000gn/T/ipykernel_9448/3615303910.py\u001b[0m in \u001b[0;36m<module>\u001b[0;34m\u001b[0m\n\u001b[1;32m     44\u001b[0m \u001b[0;34m\u001b[0m\u001b[0m\n\u001b[1;32m     45\u001b[0m \u001b[0;32mif\u001b[0m \u001b[0m__name__\u001b[0m\u001b[0;34m==\u001b[0m\u001b[0;34m'__main__'\u001b[0m\u001b[0;34m:\u001b[0m\u001b[0;34m\u001b[0m\u001b[0;34m\u001b[0m\u001b[0m\n\u001b[0;32m---> 46\u001b[0;31m     \u001b[0mrun_thermal_state_sweep\u001b[0m\u001b[0;34m(\u001b[0m\u001b[0;34m)\u001b[0m\u001b[0;34m\u001b[0m\u001b[0;34m\u001b[0m\u001b[0m\n\u001b[0m",
      "\u001b[0;32m/var/folders/lc/0pd94g0j0hx750lshn2s454r0000gn/T/ipykernel_9448/3615303910.py\u001b[0m in \u001b[0;36mrun_thermal_state_sweep\u001b[0;34m()\u001b[0m\n\u001b[1;32m     32\u001b[0m     \u001b[0mnegativity\u001b[0m \u001b[0;34m=\u001b[0m \u001b[0;34m[\u001b[0m\u001b[0;34m]\u001b[0m\u001b[0;34m\u001b[0m\u001b[0;34m\u001b[0m\u001b[0m\n\u001b[1;32m     33\u001b[0m     \u001b[0;32mfor\u001b[0m \u001b[0mt\u001b[0m \u001b[0;32min\u001b[0m \u001b[0mtvec\u001b[0m\u001b[0;34m:\u001b[0m\u001b[0;34m\u001b[0m\u001b[0;34m\u001b[0m\u001b[0m\n\u001b[0;32m---> 34\u001b[0;31m         \u001b[0mrho_th\u001b[0m \u001b[0;34m=\u001b[0m \u001b[0ment\u001b[0m\u001b[0;34m.\u001b[0m\u001b[0mthermal_state\u001b[0m\u001b[0;34m(\u001b[0m\u001b[0mH\u001b[0m\u001b[0;34m=\u001b[0m\u001b[0mH\u001b[0m\u001b[0;34m,\u001b[0m \u001b[0mT\u001b[0m\u001b[0;34m=\u001b[0m\u001b[0mt\u001b[0m\u001b[0;34m,\u001b[0m \u001b[0mK\u001b[0m\u001b[0;34m=\u001b[0m\u001b[0;36m1\u001b[0m\u001b[0;34m,\u001b[0m \u001b[0msys\u001b[0m\u001b[0;34m=\u001b[0m\u001b[0;34m'b'\u001b[0m\u001b[0;34m,\u001b[0m \u001b[0mN\u001b[0m\u001b[0;34m=\u001b[0m\u001b[0mN\u001b[0m\u001b[0;34m,\u001b[0m \u001b[0mdims\u001b[0m\u001b[0;34m=\u001b[0m\u001b[0mdims\u001b[0m\u001b[0;34m)\u001b[0m\u001b[0;34m\u001b[0m\u001b[0;34m\u001b[0m\u001b[0m\n\u001b[0m\u001b[1;32m     35\u001b[0m         \u001b[0mprint\u001b[0m\u001b[0;34m(\u001b[0m\u001b[0mrho_th\u001b[0m\u001b[0;34m.\u001b[0m\u001b[0mshape\u001b[0m\u001b[0;34m)\u001b[0m\u001b[0;34m\u001b[0m\u001b[0;34m\u001b[0m\u001b[0m\n\u001b[1;32m     36\u001b[0m         \u001b[0mpac_ta\u001b[0m \u001b[0;34m=\u001b[0m \u001b[0ment\u001b[0m\u001b[0;34m.\u001b[0m\u001b[0mget_partial_transpose\u001b[0m\u001b[0;34m(\u001b[0m\u001b[0mrho\u001b[0m\u001b[0;34m=\u001b[0m\u001b[0mrho_th\u001b[0m\u001b[0;34m,\u001b[0m \u001b[0mmask\u001b[0m\u001b[0;34m=\u001b[0m\u001b[0;34m[\u001b[0m\u001b[0;36m1\u001b[0m\u001b[0;34m,\u001b[0m \u001b[0;36m0\u001b[0m\u001b[0;34m]\u001b[0m\u001b[0;34m,\u001b[0m \u001b[0mmethod\u001b[0m\u001b[0;34m=\u001b[0m\u001b[0;34m\"sparse\"\u001b[0m\u001b[0;34m)\u001b[0m\u001b[0;34m\u001b[0m\u001b[0;34m\u001b[0m\u001b[0m\n",
      "\u001b[0;32m~/Documents/PhD Work/PhD_Files/Oxford/SpinChain_SideProject/Entanglement.py\u001b[0m in \u001b[0;36mthermal_state\u001b[0;34m(self, H, T, K, sys, N, dims)\u001b[0m\n\u001b[1;32m     76\u001b[0m             \u001b[0mpsi\u001b[0m \u001b[0;34m=\u001b[0m \u001b[0mQobj\u001b[0m\u001b[0;34m(\u001b[0m\u001b[0mVec\u001b[0m\u001b[0;34m[\u001b[0m\u001b[0;34m:\u001b[0m\u001b[0;34m,\u001b[0m\u001b[0mnum\u001b[0m\u001b[0;34m]\u001b[0m\u001b[0;34m,\u001b[0m \u001b[0mtype\u001b[0m\u001b[0;34m=\u001b[0m\u001b[0;34m'ket'\u001b[0m\u001b[0;34m)\u001b[0m\u001b[0;34m\u001b[0m\u001b[0;34m\u001b[0m\u001b[0m\n\u001b[1;32m     77\u001b[0m             \u001b[0mrho\u001b[0m \u001b[0;34m=\u001b[0m \u001b[0mket2dm\u001b[0m\u001b[0;34m(\u001b[0m\u001b[0mpsi\u001b[0m\u001b[0;34m)\u001b[0m\u001b[0;34m\u001b[0m\u001b[0;34m\u001b[0m\u001b[0m\n\u001b[0;32m---> 78\u001b[0;31m             \u001b[0mrho_tr\u001b[0m \u001b[0;34m=\u001b[0m \u001b[0mself\u001b[0m\u001b[0;34m.\u001b[0m\u001b[0mget_partial_trace\u001b[0m\u001b[0;34m(\u001b[0m\u001b[0mrho\u001b[0m\u001b[0;34m=\u001b[0m\u001b[0mrho\u001b[0m\u001b[0;34m,\u001b[0m \u001b[0mnum_spins\u001b[0m\u001b[0;34m=\u001b[0m\u001b[0;34m[\u001b[0m\u001b[0;36m1\u001b[0m\u001b[0;34m,\u001b[0m \u001b[0mN\u001b[0m\u001b[0;34m-\u001b[0m\u001b[0;36m2\u001b[0m\u001b[0;34m,\u001b[0m \u001b[0;36m1\u001b[0m\u001b[0;34m]\u001b[0m\u001b[0;34m,\u001b[0m \u001b[0mdims\u001b[0m\u001b[0;34m=\u001b[0m\u001b[0mdims\u001b[0m\u001b[0;34m,\u001b[0m \u001b[0mtrace_out_sys\u001b[0m\u001b[0;34m=\u001b[0m\u001b[0;34m'b'\u001b[0m\u001b[0;34m)\u001b[0m\u001b[0;34m\u001b[0m\u001b[0;34m\u001b[0m\u001b[0m\n\u001b[0m\u001b[1;32m     79\u001b[0m             \u001b[0mthermal\u001b[0m \u001b[0;34m=\u001b[0m \u001b[0mthermal\u001b[0m \u001b[0;34m+\u001b[0m \u001b[0mProb\u001b[0m\u001b[0;34m[\u001b[0m\u001b[0mnum\u001b[0m\u001b[0;34m]\u001b[0m\u001b[0;34m*\u001b[0m\u001b[0mrho_tr\u001b[0m\u001b[0;34m\u001b[0m\u001b[0;34m\u001b[0m\u001b[0m\n\u001b[1;32m     80\u001b[0m         \u001b[0;32mreturn\u001b[0m \u001b[0mthermal\u001b[0m\u001b[0;34m\u001b[0m\u001b[0;34m\u001b[0m\u001b[0m\n",
      "\u001b[0;31mTypeError\u001b[0m: get_partial_trace() got an unexpected keyword argument 'num_spins'"
     ]
    }
   ],
   "source": [
    "import numpy as np\n",
    "from qutip import *\n",
    "import matplotlib.pyplot as plt\n",
    "import matplotlib as mpl\n",
    "\n",
    "from Hamiltonians import Hamiltonians\n",
    "from Entanglement import Entanglement\n",
    "\n",
    "mpl.rcParams['figure.figsize'] = (10,6)\n",
    "mpl.rcParams['figure.frameon'] = True\n",
    "mpl.rcParams['lines.linewidth'] = 2.0\n",
    "mpl.rcParams['font.size'] = 20\n",
    "mpl.rcParams['legend.fontsize'] = 18\n",
    "mpl.rcParams['legend.frameon'] = False\n",
    "\n",
    "def run_thermal_state_sweep():\n",
    "\n",
    "    gamma = 0\n",
    "    J = 1\n",
    "    B = 0\n",
    "\n",
    "    negativity = []\n",
    "    N = 3\n",
    "\n",
    "    hams = Hamiltonians(N=N)\n",
    "    H = hams.XY_hamiltonian(gamma=gamma, J=J, B=B)\n",
    "\n",
    "    ent = Entanglement()\n",
    "    dims = [2,2,2]\n",
    "    tvec = np.arange(0.1,2.1,0.1)\n",
    "\n",
    "    negativity = []\n",
    "    for t in tvec:\n",
    "        rho_th = ent.thermal_state(H=H, T=t, K=1, sys='b', N=N, dims=dims)\n",
    "        print(rho_th.shape)\n",
    "        pac_ta = ent.get_partial_transpose(rho=rho_th, mask=[1, 0], method=\"sparse\")\n",
    "        negativity.append(ent.negativity(pac_ta))\n",
    "\n",
    "    plt.plot(tvec, negativity, 's-', color='k')\n",
    "    plt.xlabel('T/J')\n",
    "    plt.ylabel('Negativity')\n",
    "    # plt.title('Single Spins at Both Ends')\n",
    "    plt.show()\n",
    "    \n",
    "if __name__=='__main__':\n",
    "    run_thermal_state_sweep()"
   ]
  },
  {
   "cell_type": "code",
   "execution_count": 11,
   "id": "42733bab-8455-4dfa-96d3-133ccb3c4ee5",
   "metadata": {},
   "outputs": [
    {
     "data": {
      "text/plain": [
       "False"
      ]
     },
     "execution_count": 11,
     "metadata": {},
     "output_type": "execute_result"
    }
   ],
   "source": [
    "from qutip import *\n",
    "\n",
    "tensor(identity(2), identity(2)).shape > (1, 1)"
   ]
  },
  {
   "cell_type": "code",
   "execution_count": 17,
   "id": "50f5f3de-9f9f-41ff-84c4-c3bcbc7b5710",
   "metadata": {},
   "outputs": [
    {
     "data": {
      "text/plain": [
       "True"
      ]
     },
     "execution_count": 17,
     "metadata": {},
     "output_type": "execute_result"
    }
   ],
   "source": [
    "N = 3\n",
    "ham = Hamiltonians(N)\n",
    "heis = ham.heisenberg_interaction()\n",
    "\n",
    "heis.all() == heis.H.all()"
   ]
  },
  {
   "cell_type": "code",
   "execution_count": 63,
   "id": "aa97c3d0-2b1b-48bd-8237-5d94ace4e12d",
   "metadata": {},
   "outputs": [
    {
     "name": "stderr",
     "output_type": "stream",
     "text": [
      "/Users/garethjones/opt/anaconda3/lib/python3.9/site-packages/scipy/sparse/coo.py:194: ComplexWarning: Casting complex values to real discards the imaginary part\n",
      "  self.data = self.data.astype(dtype, copy=False)\n",
      "/var/folders/lc/0pd94g0j0hx750lshn2s454r0000gn/T/ipykernel_9448/3805668750.py:11: DeprecationWarning: `np.float` is a deprecated alias for the builtin `float`. To silence this warning, use `float` by itself. Doing this will not modify any behavior and is safe. If you specifically wanted the numpy scalar type, use `np.float64` here.\n",
      "Deprecated in NumPy 1.20; for more details and guidance: https://numpy.org/devdocs/release/1.20.0-notes.html#deprecations\n",
      "  H = csr_matrix((2**N, 2**N), dtype=np.float)\n"
     ]
    }
   ],
   "source": [
    "from scipy.sparse import csr_matrix, eye, kron\n",
    "\n",
    "J = 1\n",
    "N = 3\n",
    "\n",
    "\n",
    "sx = csr_matrix((np.matrix('0 1; 1 0')), dtype=float)\n",
    "sy = csr_matrix((np.matrix('0 -1j; 1j 0')), dtype=float)\n",
    "sz = csr_matrix((np.matrix('1 0; 0 -1')), dtype=float)\n",
    "\n",
    "H = csr_matrix((2**N, 2**N), dtype=np.float)\n",
    "\n",
    "for num in range(0,N-1):\n",
    "    H=H+(J*kron(eye(2**(num)),kron(sx,kron(sx,eye(2**(N-num-2)))))+\\\n",
    "        J*kron(eye(2**(num)),kron(sy,kron(sy,eye(2**(N-num-2)))))+\\\n",
    "        J*kron(eye(2**(num)),kron(sz,kron(sz,eye(2**(N-num-2))))) )"
   ]
  },
  {
   "cell_type": "code",
   "execution_count": 69,
   "id": "104406f9-3689-4fa5-86da-d176927007b0",
   "metadata": {},
   "outputs": [],
   "source": [
    "sx = np.matrix('0 1; 1 0')\n",
    "sy = np.matrix('0 -1j; 1j 0')\n",
    "sz = np.matrix('1 0; 0 -1')"
   ]
  },
  {
   "cell_type": "code",
   "execution_count": 82,
   "id": "de42765e-8b28-4bf4-918f-d751345f4a0b",
   "metadata": {},
   "outputs": [
    {
     "data": {
      "text/plain": [
       "True"
      ]
     },
     "execution_count": 82,
     "metadata": {},
     "output_type": "execute_result"
    }
   ],
   "source": [
    "(sx*sy - sy*sx).all() == (2*1j*sz).all()"
   ]
  },
  {
   "cell_type": "code",
   "execution_count": 79,
   "id": "85b4b166-6591-4015-8855-3279cdf9671c",
   "metadata": {},
   "outputs": [
    {
     "data": {
      "text/latex": [
       "Quantum object: dims = [[2], [2]], shape = (2, 2), type = oper, isherm = False\\begin{equation*}\\left(\\begin{array}{*{11}c}2.0j & 0.0\\\\0.0 & -2.0j\\\\\\end{array}\\right)\\end{equation*}"
      ],
      "text/plain": [
       "Quantum object: dims = [[2], [2]], shape = (2, 2), type = oper, isherm = False\n",
       "Qobj data =\n",
       "[[0.+2.j 0.+0.j]\n",
       " [0.+0.j 0.-2.j]]"
      ]
     },
     "execution_count": 79,
     "metadata": {},
     "output_type": "execute_result"
    }
   ],
   "source": []
  },
  {
   "cell_type": "code",
   "execution_count": null,
   "id": "2cb1f599-97a4-450a-9967-95a55a2c27c6",
   "metadata": {},
   "outputs": [],
   "source": []
  },
  {
   "cell_type": "code",
   "execution_count": 34,
   "id": "92c1ec80-27f1-4a27-9f52-10d3b585797c",
   "metadata": {},
   "outputs": [
    {
     "data": {
      "text/plain": [
       "matrix([[ 2.+0.j,  0.+0.j,  0.+0.j,  0.+0.j,  0.+0.j,  0.+0.j,  0.+0.j,\n",
       "          0.+0.j],\n",
       "        [ 0.+0.j,  0.+0.j,  2.+0.j,  0.+0.j,  0.+0.j,  0.+0.j,  0.+0.j,\n",
       "          0.+0.j],\n",
       "        [ 0.+0.j,  2.+0.j, -2.+0.j,  0.+0.j,  2.+0.j,  0.+0.j,  0.+0.j,\n",
       "          0.+0.j],\n",
       "        [ 0.+0.j,  0.+0.j,  0.+0.j,  0.+0.j,  0.+0.j,  2.+0.j,  0.+0.j,\n",
       "          0.+0.j],\n",
       "        [ 0.+0.j,  0.+0.j,  2.+0.j,  0.+0.j,  0.+0.j,  0.+0.j,  0.+0.j,\n",
       "          0.+0.j],\n",
       "        [ 0.+0.j,  0.+0.j,  0.+0.j,  2.+0.j,  0.+0.j, -2.+0.j,  2.+0.j,\n",
       "          0.+0.j],\n",
       "        [ 0.+0.j,  0.+0.j,  0.+0.j,  0.+0.j,  0.+0.j,  2.+0.j,  0.+0.j,\n",
       "          0.+0.j],\n",
       "        [ 0.+0.j,  0.+0.j,  0.+0.j,  0.+0.j,  0.+0.j,  0.+0.j,  0.+0.j,\n",
       "          2.+0.j]])"
      ]
     },
     "execution_count": 34,
     "metadata": {},
     "output_type": "execute_result"
    }
   ],
   "source": [
    "H = np.zeros((2**N,2**N));\n",
    "\n",
    "for num in range(0,N-1):\n",
    "    H=H+J*np.kron(np.eye(2**(num)),np.kron(sx,np.kron(sx,np.eye(2**(N-num-2)))))+\\\n",
    "        J*np.kron(np.eye(2**(num)),np.kron(sy,np.kron(sy,np.eye(2**(N-num-2)))))+\\\n",
    "        J*np.kron(np.eye(2**(num)),np.kron(sz,np.kron(sz,np.eye(2**(N-num-2)))));\n",
    "H"
   ]
  },
  {
   "cell_type": "code",
   "execution_count": 83,
   "id": "49764b04-5a92-44d8-b69a-b8e3f02660bf",
   "metadata": {},
   "outputs": [
    {
     "name": "stdout",
     "output_type": "stream",
     "text": [
      "Collecting quimb\n",
      "  Downloading quimb-1.4.0-py3-none-any.whl (353 kB)\n",
      "\u001b[K     |████████████████████████████████| 353 kB 3.7 MB/s eta 0:00:01\n",
      "\u001b[?25hRequirement already satisfied: numpy>=1.17 in /Users/garethjones/opt/anaconda3/lib/python3.9/site-packages (from quimb) (1.20.3)\n",
      "Requirement already satisfied: numba>=0.39 in /Users/garethjones/opt/anaconda3/lib/python3.9/site-packages (from quimb) (0.54.1)\n",
      "Requirement already satisfied: cytoolz>=0.8.0 in /Users/garethjones/opt/anaconda3/lib/python3.9/site-packages (from quimb) (0.11.0)\n",
      "Requirement already satisfied: scipy>=1.0.0 in /Users/garethjones/opt/anaconda3/lib/python3.9/site-packages (from quimb) (1.7.1)\n",
      "Requirement already satisfied: psutil>=4.3.1 in /Users/garethjones/opt/anaconda3/lib/python3.9/site-packages (from quimb) (5.8.0)\n",
      "Requirement already satisfied: tqdm>=4 in /Users/garethjones/opt/anaconda3/lib/python3.9/site-packages (from quimb) (4.62.3)\n",
      "Requirement already satisfied: toolz>=0.8.0 in /Users/garethjones/opt/anaconda3/lib/python3.9/site-packages (from cytoolz>=0.8.0->quimb) (0.11.1)\n",
      "Requirement already satisfied: llvmlite<0.38,>=0.37.0rc1 in /Users/garethjones/opt/anaconda3/lib/python3.9/site-packages (from numba>=0.39->quimb) (0.37.0)\n",
      "Requirement already satisfied: setuptools in /Users/garethjones/opt/anaconda3/lib/python3.9/site-packages (from numba>=0.39->quimb) (58.0.4)\n",
      "Installing collected packages: quimb\n",
      "Successfully installed quimb-1.4.0\n"
     ]
    }
   ],
   "source": [
    "!pip install quimb"
   ]
  },
  {
   "cell_type": "code",
   "execution_count": 90,
   "id": "4b58c614-3cfb-4ad6-8ad9-8c9ec524ecda",
   "metadata": {},
   "outputs": [],
   "source": [
    "from quimb import *\n",
    "from quimb.tensor import *"
   ]
  },
  {
   "cell_type": "code",
   "execution_count": 103,
   "id": "96f69b83-601e-4dba-9781-34ff8a476da0",
   "metadata": {},
   "outputs": [],
   "source": [
    "H = MPO_ham_XY(L=300, j=1.0, bz=1.0, cyclic=False)\n",
    "dmrg = DMRG2(H)"
   ]
  },
  {
   "cell_type": "code",
   "execution_count": 104,
   "id": "2892f0a9-ddfa-4a11-88fd-4840dfacae75",
   "metadata": {},
   "outputs": [
    {
     "data": {
      "image/png": "[encoded data removed]",
      "text/plain": [
       "<Figure size 432x432 with 1 Axes>"
      ]
     },
     "metadata": {},
     "output_type": "display_data"
    }
   ],
   "source": [
    "dmrg.TN_energy.draw(color=['_KET', '_HAM', '_BRA'])  # might be slow as uses force repulsion"
   ]
  },
  {
   "cell_type": "code",
   "execution_count": 106,
   "id": "a9485969-fcc4-4b51-9b3b-11e954008036",
   "metadata": {},
   "outputs": [
    {
     "name": "stdout",
     "output_type": "stream",
     "text": [
      "SWEEP-5, direction=R, max_bond=(2/128), cutoff:1e-06\n"
     ]
    },
    {
     "name": "stderr",
     "output_type": "stream",
     "text": [
      "100%|########################################| 299/299 [00:01<00:00, 252.88it/s]"
     ]
    },
    {
     "name": "stdout",
     "output_type": "stream",
     "text": [
      "Energy: -149.9996271660109 ... not converged.\n",
      "SWEEP-6, direction=R, max_bond=(2/256), cutoff:1e-06\n"
     ]
    },
    {
     "name": "stderr",
     "output_type": "stream",
     "text": [
      "\n",
      "100%|########################################| 299/299 [00:01<00:00, 248.99it/s]"
     ]
    },
    {
     "name": "stdout",
     "output_type": "stream",
     "text": [
      "Energy: -149.99969909129837 ... converged!\n"
     ]
    },
    {
     "name": "stderr",
     "output_type": "stream",
     "text": [
      "\n"
     ]
    },
    {
     "data": {
      "text/plain": [
       "True"
      ]
     },
     "execution_count": 106,
     "metadata": {},
     "output_type": "execute_result"
    }
   ],
   "source": [
    "dmrg.solve(max_sweeps=8, verbosity=1, cutoffs=1e-6)"
   ]
  },
  {
   "cell_type": "code",
   "execution_count": 107,
   "id": "07030c79-70dc-4093-9845-766abb1d0da9",
   "metadata": {},
   "outputs": [
    {
     "data": {
      "text/plain": [
       "-149.99969909129837"
      ]
     },
     "execution_count": 107,
     "metadata": {},
     "output_type": "execute_result"
    }
   ],
   "source": [
    "dmrg.energy"
   ]
  },
  {
   "cell_type": "code",
   "execution_count": 108,
   "id": "5a901e4d-d561-4694-a065-384df409b83a",
   "metadata": {},
   "outputs": [
    {
     "data": {
      "text/plain": [
       "{'default_sweep_sequence': 'R',\n",
       " 'bond_compress_method': 'svd',\n",
       " 'bond_compress_cutoff_mode': 'sum2',\n",
       " 'bond_expand_rand_strength': 1e-06,\n",
       " 'local_eig_tol': 0.001,\n",
       " 'local_eig_ncv': 4,\n",
       " 'local_eig_backend': None,\n",
       " 'local_eig_maxiter': None,\n",
       " 'local_eig_EPSType': None,\n",
       " 'local_eig_ham_dense': None,\n",
       " 'local_eig_norm_dense': None,\n",
       " 'periodic_segment_size': 0.5,\n",
       " 'periodic_compress_method': 'isvd',\n",
       " 'periodic_compress_norm_eps': 1e-06,\n",
       " 'periodic_compress_ham_eps': 1e-06,\n",
       " 'periodic_compress_max_bond': -1,\n",
       " 'periodic_nullspace_fudge_factor': 1e-12,\n",
       " 'periodic_canonize_inv_tol': 1e-10,\n",
       " 'periodic_orthog_tol': 1e-06}"
      ]
     },
     "execution_count": 108,
     "metadata": {},
     "output_type": "execute_result"
    }
   ],
   "source": [
    "dmrg.opts"
   ]
  },
  {
   "cell_type": "code",
   "execution_count": 111,
   "id": "8bf6b0d1-b7f6-4c09-a810-67a48a50b2dc",
   "metadata": {},
   "outputs": [],
   "source": [
    "gs = dmrg.state"
   ]
  },
  {
   "cell_type": "code",
   "execution_count": 112,
   "id": "1a116f66-9ac3-4f47-beab-66e9398c3262",
   "metadata": {},
   "outputs": [
    {
     "ename": "AttributeError",
     "evalue": "'MatrixProductState' object has no attribute 'T'",
     "output_type": "error",
     "traceback": [
      "\u001b[0;31m---------------------------------------------------------------------------\u001b[0m",
      "\u001b[0;31mAttributeError\u001b[0m                            Traceback (most recent call last)",
      "\u001b[0;32m/var/folders/lc/0pd94g0j0hx750lshn2s454r0000gn/T/ipykernel_9448/3913696113.py\u001b[0m in \u001b[0;36m<module>\u001b[0;34m\u001b[0m\n\u001b[0;32m----> 1\u001b[0;31m \u001b[0mrh0\u001b[0m \u001b[0;34m=\u001b[0m \u001b[0mgs\u001b[0m \u001b[0;34m*\u001b[0m \u001b[0mgs\u001b[0m\u001b[0;34m.\u001b[0m\u001b[0mT\u001b[0m\u001b[0;34m\u001b[0m\u001b[0;34m\u001b[0m\u001b[0m\n\u001b[0m",
      "\u001b[0;31mAttributeError\u001b[0m: 'MatrixProductState' object has no attribute 'T'"
     ]
    }
   ],
   "source": [
    "rh0 = gs * gs.T"
   ]
  },
  {
   "cell_type": "code",
   "execution_count": 115,
   "id": "105c25d9-b768-487f-8982-7906f76d4b0c",
   "metadata": {},
   "outputs": [
    {
     "ename": "TypeError",
     "evalue": "must be real number, not MatrixProductState",
     "output_type": "error",
     "traceback": [
      "\u001b[0;31m---------------------------------------------------------------------------\u001b[0m",
      "\u001b[0;31mTypeError\u001b[0m                                 Traceback (most recent call last)",
      "\u001b[0;32m/var/folders/lc/0pd94g0j0hx750lshn2s454r0000gn/T/ipykernel_9448/2460768914.py\u001b[0m in \u001b[0;36m<module>\u001b[0;34m\u001b[0m\n\u001b[1;32m      1\u001b[0m \u001b[0;32mfrom\u001b[0m \u001b[0mquimb\u001b[0m \u001b[0;32mimport\u001b[0m \u001b[0mcalc\u001b[0m\u001b[0;34m\u001b[0m\u001b[0;34m\u001b[0m\u001b[0m\n\u001b[0;32m----> 2\u001b[0;31m \u001b[0mcalc\u001b[0m\u001b[0;34m.\u001b[0m\u001b[0mnegativity\u001b[0m\u001b[0;34m(\u001b[0m\u001b[0mgs\u001b[0m\u001b[0;34m,\u001b[0m \u001b[0mdims\u001b[0m\u001b[0;34m=\u001b[0m\u001b[0;34m(\u001b[0m\u001b[0;36m2\u001b[0m\u001b[0;34m,\u001b[0m \u001b[0;36m2\u001b[0m\u001b[0;34m)\u001b[0m\u001b[0;34m,\u001b[0m \u001b[0msysa\u001b[0m\u001b[0;34m=\u001b[0m\u001b[0;36m0\u001b[0m\u001b[0;34m)\u001b[0m\u001b[0;34m\u001b[0m\u001b[0;34m\u001b[0m\u001b[0m\n\u001b[0m",
      "\u001b[0;32m~/opt/anaconda3/lib/python3.9/site-packages/quimb/calc.py\u001b[0m in \u001b[0;36mnegativity\u001b[0;34m(p, dims, sysa)\u001b[0m\n\u001b[1;32m    855\u001b[0m     \u001b[0mlogneg\u001b[0m\u001b[0;34m,\u001b[0m \u001b[0mpartial_transpose\u001b[0m\u001b[0;34m,\u001b[0m \u001b[0mnegativity_subsys_approx\u001b[0m\u001b[0;34m\u001b[0m\u001b[0;34m\u001b[0m\u001b[0m\n\u001b[1;32m    856\u001b[0m     \"\"\"\n\u001b[0;32m--> 857\u001b[0;31m     \u001b[0;32mreturn\u001b[0m \u001b[0mmax\u001b[0m\u001b[0;34m(\u001b[0m\u001b[0;36m0.0\u001b[0m\u001b[0;34m,\u001b[0m \u001b[0;34m(\u001b[0m\u001b[0mpartial_transpose_norm\u001b[0m\u001b[0;34m(\u001b[0m\u001b[0mp\u001b[0m\u001b[0;34m,\u001b[0m \u001b[0mdims\u001b[0m\u001b[0;34m,\u001b[0m \u001b[0msysa\u001b[0m\u001b[0;34m)\u001b[0m \u001b[0;34m-\u001b[0m \u001b[0;36m1\u001b[0m\u001b[0;34m)\u001b[0m \u001b[0;34m/\u001b[0m \u001b[0;36m2\u001b[0m\u001b[0;34m)\u001b[0m\u001b[0;34m\u001b[0m\u001b[0;34m\u001b[0m\u001b[0m\n\u001b[0m\u001b[1;32m    858\u001b[0m \u001b[0;34m\u001b[0m\u001b[0m\n\u001b[1;32m    859\u001b[0m \u001b[0;34m\u001b[0m\u001b[0m\n",
      "\u001b[0;32m~/opt/anaconda3/lib/python3.9/site-packages/quimb/calc.py\u001b[0m in \u001b[0;36mpartial_transpose_norm\u001b[0;34m(p, dims, sysa)\u001b[0m\n\u001b[1;32m    732\u001b[0m         \u001b[0;32mreturn\u001b[0m \u001b[0mtr_sqrt\u001b[0m\u001b[0;34m(\u001b[0m\u001b[0mrhoa\u001b[0m\u001b[0;34m)\u001b[0m\u001b[0;34m**\u001b[0m\u001b[0;36m2\u001b[0m\u001b[0;34m\u001b[0m\u001b[0;34m\u001b[0m\u001b[0m\n\u001b[1;32m    733\u001b[0m \u001b[0;34m\u001b[0m\u001b[0m\n\u001b[0;32m--> 734\u001b[0;31m     \u001b[0;32mreturn\u001b[0m \u001b[0mnorm_trace_dense\u001b[0m\u001b[0;34m(\u001b[0m\u001b[0mpartial_transpose\u001b[0m\u001b[0;34m(\u001b[0m\u001b[0mp\u001b[0m\u001b[0;34m,\u001b[0m \u001b[0mdims\u001b[0m\u001b[0;34m,\u001b[0m \u001b[0msysa\u001b[0m\u001b[0;34m)\u001b[0m\u001b[0;34m,\u001b[0m \u001b[0misherm\u001b[0m\u001b[0;34m=\u001b[0m\u001b[0;32mTrue\u001b[0m\u001b[0;34m)\u001b[0m\u001b[0;34m\u001b[0m\u001b[0;34m\u001b[0m\u001b[0m\n\u001b[0m\u001b[1;32m    735\u001b[0m \u001b[0;34m\u001b[0m\u001b[0m\n\u001b[1;32m    736\u001b[0m \u001b[0;34m\u001b[0m\u001b[0m\n",
      "\u001b[0;32m~/opt/anaconda3/lib/python3.9/site-packages/quimb/core.py\u001b[0m in \u001b[0;36mqarray_fn\u001b[0;34m(*args, **kwargs)\u001b[0m\n\u001b[1;32m    243\u001b[0m     \u001b[0;34m@\u001b[0m\u001b[0mfunctools\u001b[0m\u001b[0;34m.\u001b[0m\u001b[0mwraps\u001b[0m\u001b[0;34m(\u001b[0m\u001b[0mfn\u001b[0m\u001b[0;34m)\u001b[0m\u001b[0;34m\u001b[0m\u001b[0;34m\u001b[0m\u001b[0m\n\u001b[1;32m    244\u001b[0m     \u001b[0;32mdef\u001b[0m \u001b[0mqarray_fn\u001b[0m\u001b[0;34m(\u001b[0m\u001b[0;34m*\u001b[0m\u001b[0margs\u001b[0m\u001b[0;34m,\u001b[0m \u001b[0;34m**\u001b[0m\u001b[0mkwargs\u001b[0m\u001b[0;34m)\u001b[0m\u001b[0;34m:\u001b[0m\u001b[0;34m\u001b[0m\u001b[0;34m\u001b[0m\u001b[0m\n\u001b[0;32m--> 245\u001b[0;31m         \u001b[0mout\u001b[0m \u001b[0;34m=\u001b[0m \u001b[0mfn\u001b[0m\u001b[0;34m(\u001b[0m\u001b[0;34m*\u001b[0m\u001b[0margs\u001b[0m\u001b[0;34m,\u001b[0m \u001b[0;34m**\u001b[0m\u001b[0mkwargs\u001b[0m\u001b[0;34m)\u001b[0m\u001b[0;34m\u001b[0m\u001b[0;34m\u001b[0m\u001b[0m\n\u001b[0m\u001b[1;32m    246\u001b[0m         \u001b[0;32mif\u001b[0m \u001b[0;32mnot\u001b[0m \u001b[0misinstance\u001b[0m\u001b[0;34m(\u001b[0m\u001b[0mout\u001b[0m\u001b[0;34m,\u001b[0m \u001b[0mqarray\u001b[0m\u001b[0;34m)\u001b[0m\u001b[0;34m:\u001b[0m\u001b[0;34m\u001b[0m\u001b[0;34m\u001b[0m\u001b[0m\n\u001b[1;32m    247\u001b[0m             \u001b[0;32mreturn\u001b[0m \u001b[0mqarray\u001b[0m\u001b[0;34m(\u001b[0m\u001b[0mout\u001b[0m\u001b[0;34m)\u001b[0m\u001b[0;34m\u001b[0m\u001b[0;34m\u001b[0m\u001b[0m\n",
      "\u001b[0;32m~/opt/anaconda3/lib/python3.9/site-packages/quimb/calc.py\u001b[0m in \u001b[0;36mpartial_transpose\u001b[0;34m(p, dims, sysa)\u001b[0m\n\u001b[1;32m    705\u001b[0m             \u001b[0mperm_bra_inds\u001b[0m\u001b[0;34m.\u001b[0m\u001b[0mappend\u001b[0m\u001b[0;34m(\u001b[0m\u001b[0mi\u001b[0m \u001b[0;34m+\u001b[0m \u001b[0mndims\u001b[0m\u001b[0;34m)\u001b[0m\u001b[0;34m\u001b[0m\u001b[0;34m\u001b[0m\u001b[0m\n\u001b[1;32m    706\u001b[0m \u001b[0;34m\u001b[0m\u001b[0m\n\u001b[0;32m--> 707\u001b[0;31m     return (np.asarray(qu(p, \"dop\"))\n\u001b[0m\u001b[1;32m    708\u001b[0m             \u001b[0;34m.\u001b[0m\u001b[0mreshape\u001b[0m\u001b[0;34m(\u001b[0m\u001b[0;34m(\u001b[0m\u001b[0;34m*\u001b[0m\u001b[0mdims\u001b[0m\u001b[0;34m,\u001b[0m \u001b[0;34m*\u001b[0m\u001b[0mdims\u001b[0m\u001b[0;34m)\u001b[0m\u001b[0;34m)\u001b[0m\u001b[0;34m\u001b[0m\u001b[0;34m\u001b[0m\u001b[0m\n\u001b[1;32m    709\u001b[0m             \u001b[0;34m.\u001b[0m\u001b[0mtranspose\u001b[0m\u001b[0;34m(\u001b[0m\u001b[0;34m(\u001b[0m\u001b[0;34m*\u001b[0m\u001b[0mperm_ket_inds\u001b[0m\u001b[0;34m,\u001b[0m \u001b[0;34m*\u001b[0m\u001b[0mperm_bra_inds\u001b[0m\u001b[0;34m)\u001b[0m\u001b[0;34m)\u001b[0m\u001b[0;34m\u001b[0m\u001b[0;34m\u001b[0m\u001b[0m\n",
      "\u001b[0;32m~/opt/anaconda3/lib/python3.9/site-packages/quimb/core.py\u001b[0m in \u001b[0;36mquimbify\u001b[0;34m(data, qtype, normalized, chopped, sparse, stype, dtype)\u001b[0m\n\u001b[1;32m   1027\u001b[0m         \u001b[0;32melif\u001b[0m \u001b[0mqtype\u001b[0m \u001b[0;32min\u001b[0m \u001b[0;34m(\u001b[0m\u001b[0;34m\"d\"\u001b[0m\u001b[0;34m,\u001b[0m \u001b[0;34m\"r\"\u001b[0m\u001b[0;34m,\u001b[0m \u001b[0;34m\"rho\"\u001b[0m\u001b[0;34m,\u001b[0m \u001b[0;34m\"op\"\u001b[0m\u001b[0;34m,\u001b[0m \u001b[0;34m\"dop\"\u001b[0m\u001b[0;34m)\u001b[0m \u001b[0;32mand\u001b[0m \u001b[0misvec\u001b[0m\u001b[0;34m(\u001b[0m\u001b[0mdata\u001b[0m\u001b[0;34m)\u001b[0m\u001b[0;34m:\u001b[0m\u001b[0;34m\u001b[0m\u001b[0;34m\u001b[0m\u001b[0m\n\u001b[1;32m   1028\u001b[0m             \u001b[0mdata\u001b[0m \u001b[0;34m=\u001b[0m \u001b[0mdot\u001b[0m\u001b[0;34m(\u001b[0m\u001b[0mquimbify\u001b[0m\u001b[0;34m(\u001b[0m\u001b[0mdata\u001b[0m\u001b[0;34m,\u001b[0m \u001b[0;34m\"ket\"\u001b[0m\u001b[0;34m)\u001b[0m\u001b[0;34m,\u001b[0m \u001b[0mquimbify\u001b[0m\u001b[0;34m(\u001b[0m\u001b[0mdata\u001b[0m\u001b[0;34m,\u001b[0m \u001b[0;34m\"bra\"\u001b[0m\u001b[0;34m)\u001b[0m\u001b[0;34m)\u001b[0m\u001b[0;34m\u001b[0m\u001b[0;34m\u001b[0m\u001b[0m\n\u001b[0;32m-> 1029\u001b[0;31m         \u001b[0mdata\u001b[0m \u001b[0;34m=\u001b[0m \u001b[0mdata\u001b[0m\u001b[0;34m.\u001b[0m\u001b[0mastype\u001b[0m\u001b[0;34m(\u001b[0m\u001b[0mdtype\u001b[0m\u001b[0;34m)\u001b[0m\u001b[0;34m\u001b[0m\u001b[0;34m\u001b[0m\u001b[0m\n\u001b[0m\u001b[1;32m   1030\u001b[0m \u001b[0;34m\u001b[0m\u001b[0m\n\u001b[1;32m   1031\u001b[0m     \u001b[0;31m# Just cast as qarray\u001b[0m\u001b[0;34m\u001b[0m\u001b[0;34m\u001b[0m\u001b[0m\n",
      "\u001b[0;31mTypeError\u001b[0m: must be real number, not MatrixProductState"
     ]
    }
   ],
   "source": [
    "from quimb import calc\n",
    "calc.negativity(gs, dims=(2, 2), sysa=0)"
   ]
  },
  {
   "cell_type": "code",
   "execution_count": null,
   "id": "f82896d2-2e6d-4282-bf4e-26a3977fca22",
   "metadata": {},
   "outputs": [],
   "source": [
    "gs.to_dense()"
   ]
  },
  {
   "cell_type": "code",
   "execution_count": null,
   "id": "f27b64c0-b600-4754-ae28-2243fcd53d2e",
   "metadata": {},
   "outputs": [],
   "source": []
  }
 ],
 "metadata": {
  "kernelspec": {
   "display_name": "Python 3 (ipykernel)",
   "language": "python",
   "name": "python3"
  },
  "language_info": {
   "codemirror_mode": {
    "name": "ipython",
    "version": 3
   },
   "file_extension": ".py",
   "mimetype": "text/x-python",
   "name": "python",
   "nbconvert_exporter": "python",
   "pygments_lexer": "ipython3",
   "version": "3.9.7"
  }
 },
 "nbformat": 4,
 "nbformat_minor": 5
}
